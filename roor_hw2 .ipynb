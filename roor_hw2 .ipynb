{
 "cells": [
  {
   "cell_type": "markdown",
   "metadata": {},
   "source": [
    "# Алгоритмы интеллектуальной обработки больших объемов данных\n",
    "## Домашнее задание №2: Линейные модели\n"
   ]
  },
  {
   "cell_type": "markdown",
   "metadata": {},
   "source": [
    "###### <hr\\>\n",
    "**Общая информация**\n",
    "\n",
    "**Срок сдачи:** 24 марта 18:00 Сдача **очная** на занятии. <br\\>\n",
    "\n",
    "\n",
    "Используйте данный Ipython Notebook при оформлении домашнего задания.\n",
    "\n",
    "**Штрафные баллы:**\n",
    "\n",
    "1. Невыполнение PEP8 -1 балл\n",
    "2. Отсутствие фамилии в имени скрипта (скрипт должен называться по аналогии со stroykova_hw2.ipynb) -1 балл\n",
    "3. Все строчки должны быть выполнены. Нужно, чтобы output команды можно было увидеть уже в git'е. В противном случае -1 балл\n",
    "4. При оформлении ДЗ нужно пользоваться данным файлом в качестве шаблона. Не нужно удалять и видоизменять написанный код и текст, если явно не указана такая возможность. В противном случае -1 балл\n",
    "<hr\\>"
   ]
  },
  {
   "cell_type": "code",
   "execution_count": 33,
   "metadata": {},
   "outputs": [],
   "source": [
    "import pandas as pd\n",
    "import numpy as np\n",
    "import matplotlib.pyplot as plt\n",
    "\n",
    "%matplotlib inline\n",
    "\n",
    "plt.style.use('ggplot')\n",
    "plt.rcParams['figure.figsize'] = (12,5)"
   ]
  },
  {
   "cell_type": "markdown",
   "metadata": {},
   "source": [
    "Здравствуйте, уважаемые студенты! \n",
    "\n",
    "В этом задании мы будем реализовать линейные модели. Необходимо реализовать линейную и логистическую регрессии с L2 регуляризацией"
   ]
  },
  {
   "cell_type": "markdown",
   "metadata": {},
   "source": [
    "# Теоретическое введение\n",
    "\n"
   ]
  },
  {
   "cell_type": "markdown",
   "metadata": {},
   "source": [
    "Линейная регрессия решает задачу регрессии и оптимизирует функцию потерь MSE \n",
    "\n",
    "$$L(w) =  \\frac{1}{N}\\left[\\sum_i (y_i - a_i) ^ 2 \\right], $$ где $y_i$ $-$ целевая функция,  $a_i = a(x_i) =  \\langle\\,x_i,w\\rangle ,$ $-$ предсказание алгоритма на объекте $x_i$, $w$ $-$ вектор весов (размерности $D$), $x_i$ $-$ вектор признаков (такой же размерности $D$).\n",
    "\n",
    "Не забываем, что здесь и далее  мы считаем, что в $x_i$ есть тождественный вектор единиц, ему соответствует вес $w_0$.\n"
   ]
  },
  {
   "cell_type": "markdown",
   "metadata": {},
   "source": [
    "Логистическая регрессия является линейным классификатором, который оптимизирует так называемый функционал log loss:"
   ]
  },
  {
   "cell_type": "markdown",
   "metadata": {},
   "source": [
    "$$L(w) = - \\frac{1}{N}\\left[\\sum_i y_i \\log a_i + ( 1 - y_i) \\log (1 - a_i) \\right],$$\n",
    "где  $y_i  \\in \\{0,1\\}$ $-$ метка класса, $a_i$ $-$ предсказание алгоритма на объекте $x_i$. Модель пытается предсказать апостериорую вероятность объекта принадлежать к классу \"1\":\n",
    "$$ p(y_i = 1 | x_i) = a(x_i) =  \\sigma( \\langle\\,x_i,w\\rangle ),$$\n",
    "$w$ $-$ вектор весов (размерности $D$), $x_i$ $-$ вектор признаков (такой же размерности $D$).\n",
    "\n",
    "Функция $\\sigma(x)$ $-$ нелинейная функция, пероводящее скалярное произведение объекта на веса в число $\\in (0,1)$ (мы же моделируем вероятность все-таки!)\n",
    "\n",
    "$$\\sigma(x) = \\frac{1}{1 + \\exp(-x)}$$\n",
    "\n",
    "Если внимательно посмотреть на функцию потерь, то можно заметить, что в зависимости от правильного ответа алгоритм штрафуется или функцией $-\\log a_i$, или функцией $-\\log (1 - a_i)$.\n",
    "\n"
   ]
  },
  {
   "cell_type": "markdown",
   "metadata": {},
   "source": [
    "Часто для решения проблем, которые так или иначе связаны с проблемой переобучения, в функционал качества добавляют слагаемое, которое называют ***регуляризацией***. Итоговый функционал для линейной регрессии тогда принимает вид:\n",
    "\n",
    "$$L(w) =  \\frac{1}{N}\\left[\\sum_i (y_i - a_i) ^ 2 \\right] + \\frac{1}{C}R(w) $$\n",
    "\n",
    "Для логистической: \n",
    "$$L(w) = - \\frac{1}{N}\\left[\\sum_i y_i \\log a_i + ( 1 - y_i) \\log (1 - a_i) \\right] +  \\frac{1}{C}R(w)$$\n",
    "\n",
    "Самое понятие регуляризации введено основателем ВМК академиком Тихоновым https://ru.wikipedia.org/wiki/Метод_регуляризации_Тихонова\n",
    "\n",
    "Идейно методика регуляризации заключается в следующем $-$ мы рассматриваем некорректно поставленную задачу (что это такое можно найти в интернете), для того чтобы сузить набор различных вариантов (лучшие из которых будут являться переобучением ) мы вводим дополнительные ограничения на множество искомых решений. На лекции Вы уже рассмотрели два варианта регуляризации.\n",
    "\n",
    "$L1$ регуляризация:\n",
    "$$R(w) = \\sum_{j=1}^{D}|w_j|$$\n",
    "$L2$ регуляризация:\n",
    "$$R(w) =  \\sum_{j=1}^{D}w_j^2$$\n",
    "\n",
    "С их помощью мы ограничиваем модель в  возможности выбора каких угодно весов минимизирующих наш лосс, модель уже не сможет подстроиться под данные как ей угодно. \n",
    "\n",
    "Вам нужно добавить соотвествущую Вашему варианту $L2$ регуляризацию.\n",
    "\n",
    "И так, мы поняли, какую функцию ошибки будем минимизировать, разобрались, как получить предсказания по объекту и обученным весам. Осталось разобраться, как получить оптимальные веса. Для этого нужно выбрать какой-то метод оптимизации.\n",
    "\n"
   ]
  },
  {
   "cell_type": "markdown",
   "metadata": {},
   "source": [
    "Градиентный спуск является самым популярным алгоритмом обучения линейных моделей. В этом задании Вам предложат реализовать стохастический градиентный спуск или  мини-батч градиентный спуск (мини-батч на русский язык довольно сложно перевести, многие переводят это как \"пакетный\", но мне не кажется этот перевод удачным). Далее нам потребуется определение **эпохи**.\n",
    "Эпохой в SGD и MB-GD называется один проход по **всем** объектам в обучающей выборки.\n",
    "* В SGD градиент расчитывается по одному случайному объекту. Сам алгоритм выглядит примерно так:\n",
    "        1) Перемешать выборку\n",
    "        2) Посчитать градиент функции потерь на одном объекте (далее один объект тоже будем называть батчем)\n",
    "        3) Сделать шаг спуска\n",
    "        4) Повторять 2) и 3) пока не пройдет максимальное число эпох.\n",
    "* В Mini Batch SGD - по подвыборке объектов. Сам алгоритм выглядит примерно так::\n",
    "        1) Перемешать выборку, выбрать размер мини-батча (от 1 до размера выборки)\n",
    "        2) Почитать градиент функции потерь по мини-батчу (не забыть поделить на  число объектов в мини-батче)\n",
    "        3) Сделать шаг спуска\n",
    "        4) Повторять 2) и 3) пока не пройдет максимальное число эпох.\n",
    "* Для отладки алгоритма реализуйте возможность  вывода средней ошибки на обучении модели по объектам (мини-батчам). После шага градиентного спуска посчитайте значение ошибки на объекте (или мини-батче), а затем усредните, например, по ста шагам. Если обучение проходит корректно, то мы должны увидеть, что каждые 100 шагов функция потерь уменьшается. \n",
    "* Правило останова - максимальное количество эпох\n",
    "    \n"
   ]
  },
  {
   "cell_type": "markdown",
   "metadata": {},
   "source": [
    "# Теоретические вопросы (2 балла)\n",
    "В этой части Вам будут предложены теоретичские вопросы и задачи по теме. Вы, конечно, можете списать их у своего товарища или найти решение в интернете, но учтите, что они обязательно войдут в теоретический коллоквиум. Лучше разобраться в теме сейчас и успешно ответить на коллоквиуме, чем списать, не разобравшись в материале, и быть терзаемым совестью. \n",
    "\n",
    "\n",
    "Формулы надо оформлять в формате **LaTeX**."
   ]
  },
  {
   "cell_type": "markdown",
   "metadata": {},
   "source": [
    "Задача 1. Градиент для линейной регрессии.\n",
    "* Выпишите формулу обновления весов для линейной регрессии с L2 регуляризацией для мини-батч градиентого спуска размера $n$:\n",
    "\n",
    "$$ w_{new} = w_{old} - ... $$\n",
    "\n",
    " Отнеситесь к этому пункту максимально серьезно, это Вам нужно будет реализовать в задании.\n",
    " \n",
    "Проанализруйте итоговую формулу градиента - как  интуитивно можно  описать, чему равен градиент?"
   ]
  },
  {
   "cell_type": "markdown",
   "metadata": {},
   "source": [
    "***Ваше решение здесь***\n",
    "$$ w_{new} = w_{old} - {\\alpha}{\\nabla}_w L(w_{old}) $$\n",
    "$$ L(w) = \\frac{1}{n} \\sum_{i = 1}^{n} (y_i - <x_i , w>)^2 + \\frac{1}{C} \\sum_{i=1}^{D} w_j^2  $$\n",
    "$$w_{new} = w_{old} - 2 \\alpha ( \\frac{1}{n} \\sum_{i = 1}^{n} ( \\langle x_{i}, w_{old} \\rangle - y_{i})x_{i} + \\frac{w_{old}}{C})$$\n",
    "\n",
    " $\\alpha$ - шаг оптимизации, который может быть задан невозрастающей функцией $f(k)$ от номера $k$ шага оптимизации"
   ]
  },
  {
   "cell_type": "markdown",
   "metadata": {},
   "source": [
    "Задача 2. Градиент для логистической регрессии.\n",
    "* Выпишите формулу обновления весов для логистической регрессии с L2 регуляризацией  для мини-батч градиентого спуска размера $n$:\n",
    "\n",
    "$$ w_{new} = w_{old} - ... $$\n",
    "\n",
    " Отнеситесь к этому пункту максимально серьезно, это Вам нужно будет реализовать в задании.\n",
    " \n",
    "Проанализруйте итоговую формулу градиента - как  интуитивно можно  описать, чему равен градиент? Как соотносится этот градиент с градиентом, возникающий в задаче линейной регрессии?\n",
    "\n",
    "Подсказка: Вам градиент, которой получается если “в лоб” продифференцировать,  надо немного преобразовать.\n",
    "Надо подставить, что $1 - \\sigma(w,x) $ это  $1 - a(x_i)$, а  $-\\sigma(w,x)$ это $0 - a(x_i)$.  Тогда получится свести к одной красивой формуле с линейной регрессией, которую программировать будет намного проще."
   ]
  },
  {
   "cell_type": "markdown",
   "metadata": {},
   "source": [
    "***Ваше решение здесь***\n",
    "\n",
    "$$ w_{new} = w_{old} - \\alpha \\nabla_{w}L(w_{old})$$\n",
    "\n",
    "$$a_i = \\frac{1}{1 + \\exp(-<x_i, w>)}$$\n",
    "\n",
    "$$L(w) = - \\frac{1}{n}\\left[\\sum_{i=1}^n y_i \\log_2 a_i + ( 1 - y_i) \\log_2 (1 - a_i) \\right] +  \\frac{1}{C} \\sum_{i=1}^{D} w_j^2$$\n",
    "\n",
    "$$ w_{new} = w_{old} - \\alpha (\\frac{1}{nln2} \\sum_{i = 1}^{n} \\frac{((1 - y_{i})e^{\\langle x_{i}, w_{old} \\rangle} - y_{i})x_{i}}{e^{\\langle x_{i}, w_{old} \\rangle} + 1} + \\frac{2 w_{old}}{C})= $$\n",
    "$$ = w_{old} - \\alpha (\\frac{1}{nln2} \\sum_{i = 1}^{n} \\frac{((1 - y_{i}) - y_{i}e^{- \\langle x_{i}, w_{old} \\rangle})x_{i}}{1 + e^{- \\langle x_{i}, w_{old} \\rangle}} + \\frac{2 w_{old}}{C})$$\n",
    "$$ w_{new} = w_{old} - \\alpha (\\frac{1}{nln2} \\sum_{i = 1}^{n} (\\frac{1}{1 + e^{- \\langle x_{i}, w_{old} \\rangle}} - y_{i})x_{i} + \\frac{2 w_{old}}{C})$$\n",
    "Общая формула для двух алгоритмов имеет вид:\n",
    "$$ w_{new} = w_{old} - 2\\alpha (\\frac{C_1}{n} \\sum_{i = 1}^{n} (a(x_{i}) - y_{i})x_{i} + \\frac{w_{old}}{C})$$\n",
    "где $C_1 = 1$ для линейной регресии, $C_1 = \\frac{1}{2 \\ln 2}$ для логистической"
   ]
  },
  {
   "cell_type": "markdown",
   "metadata": {},
   "source": [
    "Задача 3. Точное решение линейной регрессии\n",
    "\n",
    "На лекции было показано, что точное решение линейной регрессии имеет вид $w = (X^TX)^{-1}X^TY $. \n",
    "* Покажите, что это действительно является точкой минимума в случае, если матрица X имеет строк не меньше, чем столбцов и имеет полный ранг. Подсказка: посчитайте Гессиан и покажите, что в этом случае он положительно определен. \n",
    "* Выпишите точное решение для модели с $L2$ регуляризацией. Как L2 регуляризация помогает с точным решением где матрица X имеет линейно зависимые признаки?"
   ]
  },
  {
   "cell_type": "markdown",
   "metadata": {},
   "source": [
    "***Ваше решение здесь***\n",
    "\n",
    "Матрица Гессе:\n",
    "$$ H(Q(w)) =\n",
    " \\begin{pmatrix}\n",
    "  \\frac{\\partial^{2} Q}{\\partial w_{0}^{2}} & \\frac{\\partial^{2} Q}{\\partial w_{0} \\partial w_{1}} & \\cdots & \\frac{\\partial^{2} Q}{\\partial w_{0} \\partial w_{D}} \\\\\n",
    "  \\frac{\\partial^{2} Q}{\\partial w_{1} \\partial w_{0}} & \\frac{\\partial^{2} Q}{\\partial w_{0}^{1}} & \\cdots & \\frac{\\partial^{2} Q}{\\partial w_{1} \\partial w_{D}} \\\\\n",
    "  \\vdots  & \\vdots  &  \\frac{\\partial^{2} Q}{\\partial w_{i} \\partial w_{j}} & \\vdots  \\\\\n",
    "  \\frac{\\partial^{2} Q}{\\partial w_{D} \\partial w_{0}} & \\frac{\\partial^{2} Q}{\\partial w_{D} \\partial w_{1}} & \\cdots & \\frac{\\partial^{2} Q}{\\partial w_{D}^{2}} \n",
    " \\end{pmatrix}$$\n",
    " \n",
    " где \n",
    " $$Q(w) = \\frac{1}{n} \\sum_{i=1}^{n} (x_i w - y_i)^2 = \\frac{1}{n} || Xw - y ||^2 = $$ $$ = \\frac{1}{n} (Xw-y)^T (Xw-y) =  \\frac{1}{n}(w^{T} X^{T} X w - w^{T} X^{T}y - y^{T}Xw + y^{T}y)$$\n",
    " \n",
    " $X, x_i, y, w$ - матрица признаков объектов размера $ n \\times D$ и векторы признаков $i$-го объекта, ответов и весов соответственно\n",
    " \n",
    " Далее при поиске минимума деление на $n$ можно опустить\n",
    " \n",
    " $$ H(Q(w)) = 2\n",
    " \\begin{pmatrix}\n",
    "  x_{0}^{T}x_{0} & x_{0}^{T}x_{1} & \\cdots & x_{0}^{T}x_{D} \\\\\n",
    "  x_{1}^{T}x_{0} & x_{1}^{T}x_{1} & \\cdots & x_{1}^{T}x_{D} \\\\\n",
    "  \\vdots  & \\vdots  & x_{i}^{T}x_{j} & \\vdots  \\\\\n",
    "  x_{D}^{T}x_{0} & x_{D}^{T}x_{1} & \\cdots & x_{D}^{T}x_{D}\n",
    " \\end{pmatrix}$$\n",
    " \n",
    " $ H(Q(w)) = 2 X^{T}X \\implies \\exists B = \\sqrt{2} X: B^{T}B = H(Q(w))$. $X$ невырождена, так как имеет строк не меньше, чем столбцов и полный ранг, поэтому $ H(Q(w))$ положительно определена. \n",
    " \n",
    "Решение для линейной регрессии с L2 регуляризацией: \n",
    "$$Q(w) = \\frac{1}{n}(w^{T} X^{T} X w - w^{T} X^{T}y - y^{T}Xw + y^{T}y) + \\frac{1}{C}w^{T}w$$\n",
    "$$ \\nabla_{w}Q(w) = 2X^{T}Xw - 2X^{T}y + \\frac{2}{C}Iw $$\n",
    "$$ \\nabla_{w} Q(w) = 0 \\iff w = (X^{T}X + \\frac{I}{C})^{-1} X^{T}y $$"
   ]
  },
  {
   "cell_type": "markdown",
   "metadata": {},
   "source": [
    "Задача 4.  Предсказываем вероятности.\n",
    "\n",
    "Когда говорят о логистической регрессии, произносят фразу, что она \"предсказывает вероятности положительного класса\". Давайте разберемся, что же за этим стоит. Посчитаем математическое ожидание функции потерь и проверим, что предсказание алгоритма, оптимизирующее это мат. ожидание, будет являться вероятностью положительного класса. \n",
    "\n",
    "И так, функция потерь на объекте $x_i$, который имеет метку $y_i \\in \\{0,1\\}$  для предсказания $a(x_i)$ равна:\n",
    "$$L(y_i, b) =-[y_i == 1] \\log a(x_i)  - [y_i == 0] \\log(1 - a(x_i)) $$\n",
    "\n",
    "Где $[]$ означает индикатор $-$ он равен единице, если значение внутри него истинно, иначе он равен нулю. Тогда мат. ожидание при условии конкретного $x_i$  по определение мат. ожидания дискретной случайной величины:\n",
    "$$E(L | x_i) = -p(y_i = 1 |x_i ) \\log a(x_i)  - p(y_i = 0 | x_i) \\log( 1 - a(x_i))$$\n",
    "* Докажите, что значение $a(x_i)$, минимизирующее данное мат. ожидание, в точности равно $p(y_i = 1 |x_i)$, то есть равно вероятности положительного класса.\n",
    "\n",
    "Подсказка: возможно, придется воспользоваться, что  $p(y_i = 1 | x_i) + p(y_i = 0 | x_i) = 1$"
   ]
  },
  {
   "cell_type": "markdown",
   "metadata": {},
   "source": [
    "***Ваше решение здесь***\n",
    "\n",
    "$$\\frac{dE(L|x_i)}{da(x_i)} = \\frac{1}{\\ln2}(\\frac{-p(y_i = 1 |x_i)}{a(x_i)} + \\frac{p(y_i = 0 | x_i)}{1 - a(x_i)\n",
    "})$$\n",
    "\n",
    "$$\\frac{dE(L|x_i)}{da(x_i)} = \\frac{-p(y_i = 1 |x_i) + a(x_i)p(y_i = 1 |x_i) + a(x_i)p(y_i = 0 | x_i)}{\\ln 2 \\cdot a(x_i)(1 - a(x_i))}$$ \n",
    "\n",
    "Учитывая, что $p(y_i = 1 | x_i) + p(y_i = 0 | x_i) = 1$, получим:\n",
    "\n",
    "$$\\frac{dE(L|x_i)}{da(x_i)} = \\frac{a(x_i) - p(y_i = 1 |x_i)}{\\ln 2 \\cdot a(x_i)(1 - a(x_i))}$$\n",
    "\n",
    "$$ \\frac{dE(L|x_i)}{da(x_i)} = 0 \\iff \\begin{cases} a(x_i) \\neq 0\\\\ a(x_i) \\neq 1\\\\ a(x_i) = p(y_i = 1 |x_i) \\end{cases} $$\n",
    "\n",
    "Вычислим вторую производную по $a(x_i)$\n",
    "$$ \\frac{d}{da(x_i)} \\begin{pmatrix} \\frac{a(x_i) - p(y_i = 1 |x_i)}{\\ln 2 * a(x_i) (1-a(x_i))} \\end{pmatrix} =   \\frac{\\ln 2 * a(x_i)(1-a(x_i)) - \\ln 2 * (a(x_i) - p(y_i = 1 |x_i)) (1 - 2a(x_i))}{\\ln^2 2 * a^2(x_i)(1-a(x_i))^2 } = $$ $$ = \\frac{a^2(x_i) + p(y_i = 1 |x_i) (1-2a(x_i))}{\\ln 2 * a^2(x_i)(1-a(x_i))^2} $$\n",
    "\n",
    "Вторая производная положительна при $ a(x_i) = p(y_i = 1 |x_i)$. Следовательно, $a(x_i) = p(y_i = 1 |x_i)$ действительно является точкой минимума математического ожидания"
   ]
  },
  {
   "cell_type": "markdown",
   "metadata": {},
   "source": [
    "Задача 5.  Смысл регуляризации.\n",
    "\n",
    "Нужно ли в L1/L2 регуляризации использовать свободный член $w_0$ (который не умножается ни на какой признак)?\n",
    "\n",
    "Подсказка: подумайте, для чего мы вводим $w_0$"
   ]
  },
  {
   "cell_type": "markdown",
   "metadata": {},
   "source": [
    "***Ваше решение здесь***\n",
    "\n",
    "Нужно.\n",
    "$w_{0}$ задает значение предсказания в случае, когда все признаки равны нулю или близки к нулю. Такой объект не обязательно имеет целевую переменную 0 (LinReg) или имеет равную вероятность принадлежности обоим классам (LogReg). $w_0$ отвечает за удаление гиперплоскости от начала координат. Если регуляризовать остальные веса и не регуляризовать $w_0$, то оно будет значительно больше остальных весов и разделяющая гиперплоскость может быть неадекватна."
   ]
  },
  {
   "cell_type": "markdown",
   "metadata": {},
   "source": [
    "#  Реализация линейной модели (4 балла)"
   ]
  },
  {
   "cell_type": "markdown",
   "metadata": {},
   "source": [
    "## Зачем нужны батчи?\n"
   ]
  },
  {
   "cell_type": "markdown",
   "metadata": {},
   "source": [
    "Как Вы могли заметить из теоретического введения, что в случае SGD, что в случа mini-batch GD,  на каждой итерации обновление весов  происходит только по небольшой части данных (1 пример в случае SGD, batch примеров в случае mini-batch). То есть для каждой итерации нам *** не нужна вся выборка***. Мы можем просто итерироваться по выборке, беря батч нужного размера (далее 1 объект тоже будем называть батчом).\n",
    "\n",
    "Легко заметить, что в этом случае нам не нужно загружать все данные в оперативную память, достаточно просто считать батч с диска, обновить веса, считать диска другой батч и так далее. В целях упрощения домашней работы, прямо с диска  мы считывать не будем, будем работать с обычными numpy array. \n",
    "\n",
    "\n",
    "\n"
   ]
  },
  {
   "cell_type": "markdown",
   "metadata": {},
   "source": [
    "## Немножко про генераторы в Python\n",
    "\n"
   ]
  },
  {
   "cell_type": "markdown",
   "metadata": {},
   "source": [
    "Идея считывания данных кусками удачно ложится на так называемые ***генераторы*** из языка Python. В данной работе Вам предлагается не только разобраться с логистической регрессией, но  и познакомиться с таким важным элементом языка.  При желании Вы можете убрать весь код, связанный с генераторами, и реализовать логистическую регрессию и без них, ***штрафоваться это никак не будет***. Главное, чтобы сама модель была реализована правильно, и все пункты были выполнены. \n",
    "\n",
    "Подробнее можно почитать вот тут https://anandology.com/python-practice-book/iterators.html\n"
   ]
  },
  {
   "cell_type": "markdown",
   "metadata": {},
   "source": [
    "К генератору стоит относиться просто как к функции, которая порождает не один объект, а целую последовательность объектов. Новое значение из последовательности генерируется с помощью ключевого слова ***yield***. Ниже Вы можете насладиться  генератором чисел Фибоначчи."
   ]
  },
  {
   "cell_type": "code",
   "execution_count": 2,
   "metadata": {},
   "outputs": [],
   "source": [
    "def fib(max_iter=4):\n",
    "    a, b = 0, 1\n",
    "    iter_num = 0\n",
    "    while 1:\n",
    "        yield a\n",
    "        a, b = b, a + b\n",
    "        iter_num += 1\n",
    "        if iter_num == max_iter:\n",
    "            break"
   ]
  },
  {
   "cell_type": "markdown",
   "metadata": {},
   "source": [
    "Вот так можно сгенерировать последовательность Фибоначчи. \n",
    "\n",
    "Заметьте, что к генераторам можно применять некоторые стандартные функции из Python, например enumerate."
   ]
  },
  {
   "cell_type": "code",
   "execution_count": 3,
   "metadata": {},
   "outputs": [
    {
     "name": "stdout",
     "output_type": "stream",
     "text": [
      "Fib num: 0 fib values: 0\n",
      "Fib num: 1 fib values: 1\n",
      "Fib num: 2 fib values: 1\n",
      "Fib num: 3 fib values: 2\n"
     ]
    }
   ],
   "source": [
    "new_generator = fib()\n",
    "for j, fib_val in enumerate(new_generator):\n",
    "    print (\"Fib num: \" + str(j) + \" fib values: \" + str(fib_val))"
   ]
  },
  {
   "cell_type": "markdown",
   "metadata": {},
   "source": [
    "Пересоздавая объект, можно сколько угодно раз генерировать заново последовательность. "
   ]
  },
  {
   "cell_type": "code",
   "execution_count": 4,
   "metadata": {},
   "outputs": [
    {
     "name": "stdout",
     "output_type": "stream",
     "text": [
      "Fib num: 0 fib values: 0\n",
      "Fib num: 1 fib values: 1\n",
      "Fib num: 2 fib values: 1\n",
      "Fib num: 3 fib values: 2\n",
      "Fib num: 0 fib values: 0\n",
      "Fib num: 1 fib values: 1\n",
      "Fib num: 2 fib values: 1\n",
      "Fib num: 3 fib values: 2\n",
      "Fib num: 0 fib values: 0\n",
      "Fib num: 1 fib values: 1\n",
      "Fib num: 2 fib values: 1\n",
      "Fib num: 3 fib values: 2\n"
     ]
    }
   ],
   "source": [
    "for i in range(0, 3):\n",
    "    new_generator = fib()\n",
    "    for j, fib_val in enumerate(new_generator):\n",
    "        print (\"Fib num: \" + str(j) + \" fib values: \" + str(fib_val))"
   ]
  },
  {
   "cell_type": "markdown",
   "metadata": {},
   "source": [
    "А вот так уже нельзя."
   ]
  },
  {
   "cell_type": "code",
   "execution_count": 5,
   "metadata": {},
   "outputs": [
    {
     "name": "stdout",
     "output_type": "stream",
     "text": [
      "Fib num: 0 fib values: 0\n",
      "Fib num: 1 fib values: 1\n",
      "Fib num: 2 fib values: 1\n",
      "Fib num: 3 fib values: 2\n"
     ]
    }
   ],
   "source": [
    "new_generator = fib()\n",
    "for i in range(0, 3):\n",
    "    for j, fib_val in enumerate(new_generator):\n",
    "        print (\"Fib num: \" + str(j) + \" fib values: \" + str(fib_val))"
   ]
  },
  {
   "cell_type": "markdown",
   "metadata": {},
   "source": [
    "Концепция крайне удобная для обучения  моделей $-$ у Вас есть некий источник данных, который Вам выдает их кусками, и Вам совершенно все равно откуда он их берет. Под ним может скрывать как массив в оперативной памяти, как файл на жестком диске, так и SQL база данных. Вы сами данные никуда не сохраняете, оперативную память экономите."
   ]
  },
  {
   "cell_type": "markdown",
   "metadata": {},
   "source": [
    "Если Вам понравилась идея с генераторами, то Вы можете реализовать свой, используя прототип batch_generator. В нем Вам нужно выдавать батчи признаков и ответов для каждой новой итерации спуска. Если не понравилась идея, то можете реализовывать SGD или mini-batch GD без генераторов."
   ]
  },
  {
   "cell_type": "code",
   "execution_count": 6,
   "metadata": {},
   "outputs": [],
   "source": [
    "def batch_generator(X, y, shuffle=True, batch_size=1):\n",
    "    \"\"\"\n",
    "    Генератор новых батчей для обучения\n",
    "    X          - матрица объекты-признаки\n",
    "    y_batch    - вектор ответов\n",
    "    shuffle    - нужно ли случайно перемешивать выборку\n",
    "    batch_size - размер батча ( 1 это SGD, > 1 mini-batch GD)\n",
    "    Генерирует подвыборку для итерации спуска (X_batch, y_batch)\n",
    "    \"\"\"\n",
    "    \n",
    "    X = np.array(X)\n",
    "    y = np.array(y)\n",
    "    sz = np.size(y) // batch_size\n",
    "    if shuffle:\n",
    "        for i in range(sz):\n",
    "            X_batch = X[np.random.randint(sz, size = batch_size)]\n",
    "            y_batch = y[np.random.randint(sz, size = batch_size)]\n",
    "            yield (X_batch, y_batch)\n",
    "    else:\n",
    "        sz *= batch_size\n",
    "        for i in range(0, sz, batch_size):\n",
    "            X_batch = X[i:i + batch_size]\n",
    "            y_batch = y[i:i + batch_size]\n",
    "            yield (X_batch, y_batch)\n",
    "\n",
    "# Теперь можно сделать генератор по данным ()\n",
    "#  my_batch_generator = batch_generator(X, y, shuffle=True, batch_size=1):"
   ]
  },
  {
   "cell_type": "code",
   "execution_count": 37,
   "metadata": {},
   "outputs": [],
   "source": [
    "from sklearn.base import BaseEstimator, ClassifierMixin\n",
    "from math import exp, log2, log\n",
    "\n",
    "def sigmoid(x):\n",
    "    \"\"\"\n",
    "    Вычисляем значение сигмоида.\n",
    "    X - выход линейной модели\n",
    "    \"\"\"\n",
    "    \n",
    "    try:\n",
    "        sigm_value_x = 1/(1 + exp(-x))\n",
    "        return sigm_value_x\n",
    "    except OverflowError:\n",
    "        return 1e-50\n",
    "\n",
    "def mylog2(x):\n",
    "    if x == 0.0:\n",
    "        return -1.3131231e+70\n",
    "    return log2(x)\n",
    "\n",
    "class MySGDClassifier(BaseEstimator, ClassifierMixin):\n",
    "    \n",
    "    def __init__(self, batch_generator, C = 1, alpha = 0.01, max_epoch = 10, model_type = 'lin_reg',\n",
    "                 batch_size = 1, border = 0.5):\n",
    "        \"\"\"\n",
    "        batch_generator -- функция генератор, которой будем создавать батчи\n",
    "        C - коэф. регуляризации\n",
    "        alpha - скорость спуска\n",
    "        max_epoch - максимальное количество эпох\n",
    "        model_type - тип модели, lin_reg или log_reg\n",
    "        \"\"\"\n",
    "        self.C = C\n",
    "        self.alpha = alpha\n",
    "        self.max_epoch = max_epoch\n",
    "        self.batch_generator = batch_generator\n",
    "        self.loss_values = []\n",
    "        self.type = model_type\n",
    "        self.batch_size = batch_size\n",
    "        self.border = border\n",
    "        if model_type == 'lin_reg':\n",
    "            self.C1 = 1\n",
    "        else:\n",
    "            self.C1 = 1 / (2 * log(2))\n",
    "        \n",
    "    def calc_loss(self, X_batch, y_batch):\n",
    "        \"\"\"\n",
    "        Считаем функцию потерь по батчу \n",
    "        X_batch - матрица объекты-признаки по батчу\n",
    "        y_batch - вектор ответов по батчу\n",
    "        Не забудте тип модели (линейная или логистическая регрессия)!\n",
    "        \"\"\"\n",
    "        \n",
    "        X = np.array(X_batch)\n",
    "        add = np.array([1] * (X.shape[0]))\n",
    "        add = add.reshape(-1, 1)\n",
    "        X = np.hstack((add, X))\n",
    "        y = np.array(y_batch)\n",
    "        \n",
    "        w = np.array(self.weights)\n",
    "        loss = X * w\n",
    "        loss = loss.sum(axis = 1).ravel()\n",
    "        \n",
    "        if self.type == 'lin_reg':\n",
    "            loss = (loss - y) ** 2\n",
    "            loss = loss.sum()\n",
    "        elif self.type == 'log_reg':\n",
    "            loss = np.array(list(map(sigmoid, loss)))\n",
    "            ones = loss[np.where(y == 1)]\n",
    "            ones = np.array(list(map(mylog2, ones)))\n",
    "            zeros = -loss[np.where(y == 0)]\n",
    "            zeros += 1\n",
    "            zeros = np.array(list(map(mylog2, zeros)))\n",
    "            loss = -zeros.sum() - ones.sum()\n",
    "        \n",
    "        loss /= np.size(y)\n",
    "        \n",
    "        reg = w ** 2\n",
    "        reg = reg.sum() / self.C\n",
    "        \n",
    "        return loss + reg\n",
    "    \n",
    "    def calc_loss_grad(self, X_batch, y_batch):\n",
    "        \"\"\"\n",
    "        Считаем  градиент функции потерь по батчу (то что Вы вывели в задании 1)\n",
    "        X_batch - матрица объекты-признаки по батчу\n",
    "        y_batch - вектор ответов по батчу\n",
    "        Не забудте тип модели (линейная или логистическая регрессия)!\n",
    "        \"\"\"\n",
    "        X = np.array(X_batch)\n",
    "        ones = np.array([1] * (X.shape[0])).reshape(-1, 1)\n",
    "        X = np.hstack((ones, X))\n",
    "        \n",
    "        y = np.array(y_batch).reshape(1, -1)\n",
    "        w = np.array(self.weights).reshape(1, -1)\n",
    "        a = X * w\n",
    "        a = a.sum(axis = 1).ravel()\n",
    "        \n",
    "        if self.type == 'log_reg':\n",
    "            a = np.array(list(map(sigmoid, a)))\n",
    "            \n",
    "        a = a - y\n",
    "        a = a.reshape(-1, 1)\n",
    "        loss_grad = X * a\n",
    "        loss_grad = loss_grad.mean(axis = 0) * self.C1\n",
    "        reg = w / self.C\n",
    "        \n",
    "        return 2 * (loss_grad + reg)[0]\n",
    "    \n",
    "    def update_weights(self, new_grad):\n",
    "        \"\"\"\n",
    "        Обновляем вектор весов\n",
    "        new_grad - градиент по батчу\n",
    "        \"\"\"\n",
    "        self.weights = self.weights - self.alpha * new_grad\n",
    "    \n",
    "    def fit(self, X, y):\n",
    "        '''\n",
    "        Обучение модели\n",
    "        X - матрица объекты-признаки\n",
    "        y - вектор ответов\n",
    "        '''\n",
    "        # Нужно инициализировать случайно веса\n",
    "        X = np.array(X)\n",
    "        y = np.array(y)\n",
    "        np.random.seed(20)\n",
    "        self.weights = np.random.randint(1, 10, size = X.shape[1] + 1)\n",
    "        self.weights = self.weights.astype(float)\n",
    "        for i in range(0, self.max_epoch):\n",
    "            new_gen = self.batch_generator(X, y, shuffle = True, batch_size = self.batch_size)\n",
    "            for batch in new_gen:\n",
    "                X_batch, y_batch = batch[0], batch[1]\n",
    "                loss = self.calc_loss(X_batch, y_batch)\n",
    "                self.loss_values.append(loss)\n",
    "                \n",
    "                grad = self.calc_loss_grad(X_batch, y_batch)\n",
    "                self.update_weights(grad)\n",
    "            self.alpha /= 2\n",
    "                \n",
    "        self.loss_values.append(self.calc_loss(X, y))\n",
    "        return self\n",
    "        \n",
    "    def predict(self, X):\n",
    "        '''\n",
    "        Предсказание класса\n",
    "        X - матрица объекты-признаки\n",
    "        Не забудте тип модели (линейная или логистическая регрессия)!\n",
    "        '''\n",
    "        X = np.array(X)\n",
    "        add = np.array([1] * X.shape[0])\n",
    "        add = add.reshape(-1, 1)\n",
    "        X = np.hstack((add, X))\n",
    "        \n",
    "        w = np.array(self.weights)\n",
    "        y_pred = X * w\n",
    "        y_pred = y_pred.sum(axis = 1).ravel()\n",
    "        if self.type == 'log_reg':\n",
    "            y_pred = np.array(list(map(sigmoid, y_pred)))\n",
    "            y_pred = (y_pred >= self.border).astype(int)\n",
    "        return y_pred\n",
    "        \n",
    "        # Желательно здесь использовать матричные операции между X и весами, например, numpy.dot "
   ]
  },
  {
   "cell_type": "markdown",
   "metadata": {},
   "source": [
    "Запустите обе регрессии на синтетических данных. \n",
    "\n",
    "\n",
    "Выведите полученные веса и нарисуйте разделяющую границу между классами (используйте только первых два веса для первых двух признаков X[:,0], X[:,1] для отображения в 2d пространство ).  "
   ]
  },
  {
   "cell_type": "code",
   "execution_count": 31,
   "metadata": {},
   "outputs": [],
   "source": [
    "def plot_decision_boundary(clf):\n",
    "    x1 = np.linspace(-50, 50) #feature 1\n",
    "    #w0 + w1x1 + w2x2 = 0\n",
    "    x2 = (-clf.weights[0] - clf.weights[1] * x1) / clf.weights[2]  #feature 2\n",
    "    if clf.type =='lin_reg':\n",
    "        color = '-g'\n",
    "    else:\n",
    "        color = '-b'\n",
    "    line, = plt.plot(x1, x2, color, label = clf.type)\n",
    "    return line"
   ]
  },
  {
   "cell_type": "code",
   "execution_count": 45,
   "metadata": {},
   "outputs": [
    {
     "name": "stdout",
     "output_type": "stream",
     "text": [
      "Linear regression weights:\n",
      "[116.45905019, 419.0624409, -294.44855942]\n",
      "Logistic regression weights:\n",
      "[ 0.00206375 -0.00167164  0.00046749]\n"
     ]
    },
    {
     "data": {
      "image/png": "[encoded data removed]",
      "text/plain": [
       "<Figure size 432x288 with 1 Axes>"
      ]
     },
     "metadata": {
      "needs_background": "light"
     },
     "output_type": "display_data"
    }
   ],
   "source": [
    "np.random.seed(0)\n",
    "\n",
    "C1 = np.array([[0., -0.8], [1.5, 0.8]])\n",
    "C2 = np.array([[1., -0.7], [2., 0.7]])\n",
    "gauss1 = np.dot(np.random.randn(200, 2) + np.array([5, 3]), C1)\n",
    "gauss2 = np.dot(np.random.randn(200, 2) + np.array([1.5, 0]), C2)\n",
    "\n",
    "X = np.vstack([gauss1, gauss2])\n",
    "y = np.r_[np.ones(200), np.zeros(200)]\n",
    "\n",
    "mylin = MySGDClassifier(batch_generator, model_type = 'lin_reg', alpha = 0.1)\n",
    "mylog = MySGDClassifier(batch_generator, model_type = 'log_reg', alpha = 0.01)\n",
    "mylin.fit(X, y)\n",
    "mylog.fit(X, y)\n",
    "\n",
    "line_lin = plot_decision_boundary(mylin)\n",
    "line_log = plot_decision_boundary(mylog)\n",
    "print('Linear regression weights:')\n",
    "print(mylin.weights)\n",
    "print('Logistic regression weights:')\n",
    "print(mylog.weights)\n",
    "\n",
    "plt.legend(handles = [line_lin, line_log] )\n",
    "plt.xlim(-8, 8)\n",
    "plt.ylim(-5, 5)\n",
    "plt.scatter(X[:, 0], X[:, 1], c = y)\n",
    "plt.show()"
   ]
  },
  {
   "cell_type": "markdown",
   "metadata": {},
   "source": [
    "Далее будем анализировать Ваш алгоритм. \n",
    "Для этих заданий используйте датасет ниже."
   ]
  },
  {
   "cell_type": "code",
   "execution_count": 46,
   "metadata": {},
   "outputs": [],
   "source": [
    "from sklearn.datasets import make_classification"
   ]
  },
  {
   "cell_type": "code",
   "execution_count": 47,
   "metadata": {},
   "outputs": [],
   "source": [
    "X, y = make_classification(n_samples=100000, n_features=10, \n",
    "                           n_informative=4, n_redundant=0, \n",
    "                           random_state=123, class_sep=1.0,\n",
    "                           n_clusters_per_class=1)"
   ]
  },
  {
   "cell_type": "markdown",
   "metadata": {},
   "source": [
    "Покажите сходимости обеих регрессией на этом датасете: изобразите график  функции потерь, усредненной по $N$ шагам градиентого спуска, для разных `alpha` (размеров шага). Разные `alpha` расположите на одном графике. \n",
    "\n",
    "$N$ можно брать 10, 50, 100 и т.д. "
   ]
  },
  {
   "cell_type": "code",
   "execution_count": 48,
   "metadata": {},
   "outputs": [
    {
     "name": "stderr",
     "output_type": "stream",
     "text": [
      "/home/danroor/anaconda3/lib/python3.7/site-packages/ipykernel_launcher.py:64: RuntimeWarning: overflow encountered in square\n",
      "/home/danroor/anaconda3/lib/python3.7/site-packages/ipykernel_launcher.py:80: RuntimeWarning: overflow encountered in double_scalars\n",
      "/home/danroor/anaconda3/lib/python3.7/site-packages/numpy/core/_methods.py:38: RuntimeWarning: overflow encountered in reduce\n",
      "  return umr_sum(a, axis, dtype, out, keepdims, initial, where)\n",
      "/home/danroor/anaconda3/lib/python3.7/site-packages/ipykernel_launcher.py:77: RuntimeWarning: overflow encountered in square\n",
      "/home/danroor/anaconda3/lib/python3.7/site-packages/ipykernel_launcher.py:107: RuntimeWarning: overflow encountered in multiply\n",
      "/home/danroor/anaconda3/lib/python3.7/site-packages/ipykernel_launcher.py:114: RuntimeWarning: invalid value encountered in subtract\n",
      "/home/danroor/anaconda3/lib/python3.7/site-packages/numpy/core/_methods.py:38: RuntimeWarning: invalid value encountered in reduce\n",
      "  return umr_sum(a, axis, dtype, out, keepdims, initial, where)\n",
      "/home/danroor/anaconda3/lib/python3.7/site-packages/numpy/core/_methods.py:151: RuntimeWarning: overflow encountered in reduce\n",
      "  ret = umr_sum(arr, axis, dtype, out, keepdims)\n",
      "/home/danroor/anaconda3/lib/python3.7/site-packages/ipykernel_launcher.py:107: RuntimeWarning: overflow encountered in add\n",
      "/home/danroor/anaconda3/lib/python3.7/site-packages/ipykernel_launcher.py:60: RuntimeWarning: overflow encountered in multiply\n",
      "/home/danroor/anaconda3/lib/python3.7/site-packages/ipykernel_launcher.py:95: RuntimeWarning: overflow encountered in multiply\n"
     ]
    },
    {
     "data": {
      "image/png": "[encoded data removed]",
      "text/plain": [
       "<Figure size 432x288 with 1 Axes>"
      ]
     },
     "metadata": {
      "needs_background": "light"
     },
     "output_type": "display_data"
    }
   ],
   "source": [
    "clf = MySGDClassifier(batch_generator, model_type='lin_reg')\n",
    "clf.fit(X, y)\n",
    "N = [10, 50, 100, 500, 1000, 10000, 100000, 1000000]\n",
    "val = []\n",
    "for i in N:\n",
    "    val.append(np.mean(clf.loss_values[:i]))\n",
    "line1, = plt.plot(N, val, label = '0.01')\n",
    "\n",
    "clf = MySGDClassifier(batch_generator, model_type='lin_reg', alpha = 0.05)\n",
    "clf.fit(X, y)\n",
    "N = [10, 50, 100, 500, 1000, 10000, 100000, 1000000]\n",
    "val = []\n",
    "for i in N:\n",
    "    val.append(np.mean(clf.loss_values[:i]))\n",
    "line2, = plt.plot(N, val, label = '0.05')\n",
    "\n",
    "clf = MySGDClassifier(batch_generator, model_type='lin_reg', alpha = 0.1)\n",
    "clf.fit(X, y)\n",
    "N = [10, 50, 100, 500, 1000, 10000, 100000, 1000000]\n",
    "val = []\n",
    "for i in N:\n",
    "    val.append(np.mean(clf.loss_values[:i]))\n",
    "line3, = plt.plot(N, val, label = '0.1')\n",
    "\n",
    "clf = MySGDClassifier(batch_generator, model_type='lin_reg', alpha = 0.25)\n",
    "clf.fit(X, y)\n",
    "N = [10, 50, 100, 500, 1000, 10000, 100000, 1000000]\n",
    "val = []\n",
    "for i in N:\n",
    "    val.append(np.mean(clf.loss_values[:i]))\n",
    "line4, = plt.plot(N, val, label = '0.25')\n",
    "\n",
    "clf = MySGDClassifier(batch_generator, model_type='lin_reg', alpha = 0.5)\n",
    "clf.fit(X, y)\n",
    "N = [10, 50, 100, 500, 1000, 10000, 100000, 1000000]\n",
    "val = []\n",
    "for i in N:\n",
    "    val.append(np.mean(clf.loss_values[:i]))\n",
    "line5, = plt.plot(N, val, label = '0.5')\n",
    "\n",
    "clf = MySGDClassifier(batch_generator, model_type='lin_reg', alpha = 0.75)\n",
    "clf.fit(X, y)\n",
    "N = [10, 50, 100, 500, 1000, 10000, 100000, 1000000]\n",
    "val = []\n",
    "for i in N:\n",
    "    val.append(np.mean(clf.loss_values[:i]))\n",
    "line6, = plt.plot(N, val, label = '0.75')\n",
    "\n",
    "clf = MySGDClassifier(batch_generator, model_type='lin_reg', alpha = 1.0)\n",
    "clf.fit(X, y)\n",
    "N = [10, 50, 100, 500, 1000, 10000, 100000, 1000000]\n",
    "val = []\n",
    "for i in N:\n",
    "    val.append(np.mean(clf.loss_values[:i]))\n",
    "line7, = plt.plot(N, val, label = '1.0')\n",
    "\n",
    "plt.xlim(0, 500)\n",
    "plt.ylim(0,5000)\n",
    "\n",
    "plt.legend(handles=[line1, line2, line3, line4, line5, line6, line7])\n",
    "plt.show()"
   ]
  },
  {
   "cell_type": "code",
   "execution_count": 28,
   "metadata": {},
   "outputs": [
    {
     "data": {
      "image/png": "[encoded data removed]",
      "text/plain": [
       "<Figure size 432x288 with 1 Axes>"
      ]
     },
     "metadata": {
      "needs_background": "light"
     },
     "output_type": "display_data"
    }
   ],
   "source": [
    "clf = MySGDClassifier(batch_generator, model_type='log_reg')\n",
    "clf.fit(X, y)\n",
    "N = [10, 50, 100, 500, 1000, 10000, 100000, 1000000]\n",
    "val = []\n",
    "for i in N:\n",
    "    val.append(np.mean(clf.loss_values[:i]))\n",
    "line1, = plt.plot(N, val, label = '0.01')\n",
    "\n",
    "clf = MySGDClassifier(batch_generator, model_type='log_reg', alpha = 0.05)\n",
    "clf.fit(X, y)\n",
    "N = [10, 50, 100, 500, 1000, 10000, 100000, 1000000]\n",
    "val = []\n",
    "for i in N:\n",
    "    val.append(np.mean(clf.loss_values[:i]))\n",
    "line2, = plt.plot(N, val, label = '0.05')\n",
    "\n",
    "clf = MySGDClassifier(batch_generator, model_type='log_reg', alpha = 0.1)\n",
    "clf.fit(X, y)\n",
    "N = [10, 50, 100, 500, 1000, 10000, 100000, 1000000]\n",
    "val = []\n",
    "for i in N:\n",
    "    val.append(np.mean(clf.loss_values[:i]))\n",
    "line3, = plt.plot(N, val, label = '0.1')\n",
    "\n",
    "clf = MySGDClassifier(batch_generator, model_type='log_reg', alpha = 0.25)\n",
    "clf.fit(X, y)\n",
    "N = [10, 50, 100, 500, 1000, 10000, 100000, 1000000]\n",
    "val = []\n",
    "for i in N:\n",
    "    val.append(np.mean(clf.loss_values[:i]))\n",
    "line4, = plt.plot(N, val, label = '0.25')\n",
    "\n",
    "clf = MySGDClassifier(batch_generator, model_type='log_reg', alpha = 0.5)\n",
    "clf.fit(X, y)\n",
    "N = [10, 50, 100, 500, 1000, 10000, 100000, 1000000]\n",
    "val = []\n",
    "for i in N:\n",
    "    val.append(np.mean(clf.loss_values[:i]))\n",
    "line5, = plt.plot(N, val, label = '0.5')\n",
    "\n",
    "clf = MySGDClassifier(batch_generator, model_type='log_reg', alpha = 0.75)\n",
    "clf.fit(X, y)\n",
    "N = [10, 50, 100, 500, 1000, 10000, 100000, 1000000]\n",
    "val = []\n",
    "for i in N:\n",
    "    val.append(np.mean(clf.loss_values[:i]))\n",
    "line6, = plt.plot(N, val, label = '0.75')\n",
    "\n",
    "clf = MySGDClassifier(batch_generator, model_type='log_reg', alpha = 1.0)\n",
    "clf.fit(X, y)\n",
    "N = [10, 50, 100, 500, 1000, 10000, 100000, 1000000]\n",
    "val = []\n",
    "for i in N:\n",
    "    val.append(np.mean(clf.loss_values[:i]))\n",
    "line7, = plt.plot(N, val, label = '1.0')\n",
    "\n",
    "plt.xlim(0, 200)\n",
    "plt.ylim(0,1000)\n",
    "\n",
    "plt.legend(handles=[line1, line2, line3, line4, line5, line6, line7])\n",
    "plt.show()"
   ]
  },
  {
   "cell_type": "markdown",
   "metadata": {},
   "source": [
    "Что Вы можете сказать про сходимость метода при различных `alpha`? Какое значение стоит выбирать для лучшей сходимости?"
   ]
  },
  {
   "cell_type": "markdown",
   "metadata": {},
   "source": [
    "Изобразите график среднего значения весов для обеих регрессий в зависимости от коеф. регуляризации С из `np.logspace(3, -3, 10)` "
   ]
  },
  {
   "cell_type": "code",
   "execution_count": 33,
   "metadata": {},
   "outputs": [
    {
     "name": "stderr",
     "output_type": "stream",
     "text": [
      "/home/danroor/anaconda3/lib/python3.7/site-packages/ipykernel_launcher.py:78: RuntimeWarning: overflow encountered in double_scalars\n",
      "/home/danroor/anaconda3/lib/python3.7/site-packages/ipykernel_launcher.py:64: RuntimeWarning: overflow encountered in square\n",
      "/home/danroor/anaconda3/lib/python3.7/site-packages/ipykernel_launcher.py:77: RuntimeWarning: overflow encountered in square\n",
      "/home/danroor/anaconda3/lib/python3.7/site-packages/ipykernel_launcher.py:107: RuntimeWarning: overflow encountered in multiply\n",
      "/home/danroor/anaconda3/lib/python3.7/site-packages/ipykernel_launcher.py:105: RuntimeWarning: overflow encountered in true_divide\n"
     ]
    },
    {
     "data": {
      "image/png": "[encoded data removed]",
      "text/plain": [
       "<Figure size 432x288 with 1 Axes>"
      ]
     },
     "metadata": {
      "needs_background": "light"
     },
     "output_type": "display_data"
    }
   ],
   "source": [
    "C = np.logspace(3, -3, 10)\n",
    "w_aver = []\n",
    "for i in C:\n",
    "    clf = MySGDClassifier(batch_generator,model_type = 'lin_reg', C = i).fit(X, y)\n",
    "    w_aver.append(np.mean(clf.weights))\n",
    "plt.plot(C, w_aver)\n",
    "plt.xlim(0, 100)\n",
    "plt.ylim(0, 0.2)\n",
    "plt.show()"
   ]
  },
  {
   "cell_type": "code",
   "execution_count": 34,
   "metadata": {},
   "outputs": [
    {
     "name": "stderr",
     "output_type": "stream",
     "text": [
      "/home/danroor/anaconda3/lib/python3.7/site-packages/ipykernel_launcher.py:78: RuntimeWarning: overflow encountered in double_scalars\n",
      "/home/danroor/anaconda3/lib/python3.7/site-packages/ipykernel_launcher.py:77: RuntimeWarning: overflow encountered in square\n",
      "/home/danroor/anaconda3/lib/python3.7/site-packages/ipykernel_launcher.py:105: RuntimeWarning: overflow encountered in true_divide\n",
      "/home/danroor/anaconda3/lib/python3.7/site-packages/ipykernel_launcher.py:107: RuntimeWarning: overflow encountered in multiply\n"
     ]
    },
    {
     "data": {
      "image/png": "[encoded data removed]",
      "text/plain": [
       "<Figure size 432x288 with 1 Axes>"
      ]
     },
     "metadata": {
      "needs_background": "light"
     },
     "output_type": "display_data"
    }
   ],
   "source": [
    "C = np.logspace(3, -3, 10)\n",
    "w_aver = []\n",
    "for i in C:\n",
    "    clf = MySGDClassifier(batch_generator,model_type = 'log_reg', C = i).fit(X, y)\n",
    "    w_aver.append(np.mean(clf.weights))\n",
    "plt.plot(C, w_aver)\n",
    "plt.xlim(0, 100)\n",
    "plt.ylim(0, 0.2)\n",
    "plt.show()"
   ]
  },
  {
   "cell_type": "markdown",
   "metadata": {},
   "source": [
    "Довольны ли Вы, насколько сильно уменьшились Ваши веса? "
   ]
  },
  {
   "cell_type": "markdown",
   "metadata": {},
   "source": [
    "# Боевое применение (4  балла)\n",
    "\n",
    "**Защита данной части возможна только при преодолении в проекте бейзлайна Handmade baseline.**"
   ]
  },
  {
   "cell_type": "markdown",
   "metadata": {},
   "source": [
    "Давайте применим модель на итоговом проекте! Датасет сделаем точно таким же образом, как было показано в project_overview.ipynb\n",
    "\n",
    "Применим обе регрессии, подберем для них параметры и сравним качество. Может быть Вы еще одновременно с решением домашней работы подрастете на лидерборде!"
   ]
  },
  {
   "cell_type": "code",
   "execution_count": 8,
   "metadata": {},
   "outputs": [
    {
     "name": "stdout",
     "output_type": "stream",
     "text": [
      "28026\n"
     ]
    }
   ],
   "source": [
    "doc_to_title = {}\n",
    "with open('docs_titles.tsv') as f:\n",
    "    for num_line, line in enumerate(f):\n",
    "        if num_line == 0:\n",
    "            continue\n",
    "        data = line.strip().split('\\t', 1)\n",
    "        doc_id = int(data[0])\n",
    "        if len(data) == 1:\n",
    "            title = ''\n",
    "        else:\n",
    "            title = data[1]\n",
    "        doc_to_title[doc_id] = title\n",
    "print (len(doc_to_title))\n"
   ]
  },
  {
   "cell_type": "code",
   "execution_count": 9,
   "metadata": {},
   "outputs": [],
   "source": [
    "import pandas as pd\n",
    "train_data = pd.read_csv('train_groups.csv')\n",
    "traingroups_titledata = {}\n",
    "for i in range(len(train_data)):\n",
    "    new_doc = train_data.iloc[i]\n",
    "    doc_group = new_doc['group_id']\n",
    "    doc_id = new_doc['doc_id']\n",
    "    target = new_doc['target']\n",
    "    title = doc_to_title[doc_id]\n",
    "    if doc_group not in traingroups_titledata:\n",
    "        traingroups_titledata[doc_group] = []\n",
    "    traingroups_titledata[doc_group].append((doc_id, title, target))"
   ]
  },
  {
   "cell_type": "code",
   "execution_count": 10,
   "metadata": {},
   "outputs": [
    {
     "name": "stdout",
     "output_type": "stream",
     "text": [
      "(11690, 15) (11690,) (11690,)\n"
     ]
    }
   ],
   "source": [
    "import numpy as np\n",
    "y_train = []\n",
    "X_train = []\n",
    "groups_train = []\n",
    "for new_group in traingroups_titledata:\n",
    "    docs = traingroups_titledata[new_group]\n",
    "    for k, (doc_id, title, target_id) in enumerate(docs):\n",
    "        y_train.append(target_id)\n",
    "        groups_train.append(new_group)\n",
    "        all_dist = []\n",
    "        words = set(title.strip().split())\n",
    "        for j in range(0, len(docs)):\n",
    "            if k == j:\n",
    "                continue\n",
    "            doc_id_j, title_j, target_j = docs[j]\n",
    "            words_j = set(title_j.strip().split())\n",
    "            all_dist.append(len(words.intersection(words_j)))\n",
    "        X_train.append(sorted(all_dist, reverse=True)[0:15]    )\n",
    "X_train = np.array(X_train)\n",
    "y_train = np.array(y_train)\n",
    "groups_train = np.array(groups_train)\n",
    "print (X_train.shape, y_train.shape, groups_train.shape)"
   ]
  },
  {
   "cell_type": "markdown",
   "metadata": {},
   "source": [
    "Подберите размер батча для обучения. Линейная модель не должна учиться дольше нескольких минут. \n",
    "\n",
    "Не забывайте использовать скейлер!"
   ]
  },
  {
   "cell_type": "code",
   "execution_count": 11,
   "metadata": {},
   "outputs": [],
   "source": [
    "from sklearn.metrics import f1_score\n",
    "from sklearn.linear_model import LinearRegression\n",
    "from sklearn.preprocessing import StandardScaler"
   ]
  },
  {
   "cell_type": "code",
   "execution_count": 12,
   "metadata": {},
   "outputs": [
    {
     "name": "stdout",
     "output_type": "stream",
     "text": [
      "(11690, 15)\n"
     ]
    }
   ],
   "source": [
    "st = StandardScaler()\n",
    "X = st.fit_transform(X_train, y_train)\n",
    "print(X.shape)"
   ]
  },
  {
   "cell_type": "code",
   "execution_count": 77,
   "metadata": {},
   "outputs": [
    {
     "data": {
      "image/png": "[encoded data removed]",
      "text/plain": [
       "<Figure size 432x288 with 1 Axes>"
      ]
     },
     "metadata": {
      "needs_background": "light"
     },
     "output_type": "display_data"
    }
   ],
   "source": [
    "size = [ 10, 50, 100, 200, 300, 400, 500, 1000]  \n",
    "linloss = []\n",
    "logloss = []\n",
    "for i in size:\n",
    "    clf = MySGDClassifier(batch_generator, model_type='lin_reg', batch_size = i).fit(X, y_train)\n",
    "    linloss.append(clf.loss_values[-1])\n",
    "    \n",
    "    clf = MySGDClassifier(batch_generator, model_type='log_reg', batch_size = i).fit(X, y_train)\n",
    "    logloss.append(clf.loss_values[-1])\n",
    "    \n",
    "l1, = plt.plot(size, logloss, label='log_reg')\n",
    "l2, = plt.plot(size, linloss, label='lin_reg')\n",
    "plt.legend(handles=[l1, l2])\n",
    "plt.xlim(0, 1000)\n",
    "plt.ylim(0, 50)\n",
    "plt.show()"
   ]
  },
  {
   "cell_type": "markdown",
   "metadata": {},
   "source": [
    "Пусть далее batch_size = 200"
   ]
  },
  {
   "cell_type": "markdown",
   "metadata": {},
   "source": [
    "Разбейте данные на обучение и валидацию. Подберите параметры C, alpha, max_epoch, model_type на валидации (Вы же помните, как правильно в этой задаче делать валидацию?)"
   ]
  },
  {
   "cell_type": "code",
   "execution_count": 15,
   "metadata": {},
   "outputs": [
    {
     "name": "stdout",
     "output_type": "stream",
     "text": [
      "c = 0.1, alpha =  0.01, max_epoch =  5\n",
      "            model_type: log_reg, score = 0.598624589742032\n",
      "c = 0.1, alpha =  0.01, max_epoch =  5\n",
      "            model_type: lin_reg, score = 0.40675892094433425\n",
      "c = 0.1, alpha =  0.01, max_epoch =  10\n",
      "            model_type: log_reg, score = 0.6087174811225818\n",
      "c = 0.1, alpha =  0.01, max_epoch =  10\n",
      "            model_type: lin_reg, score = 0.4087428992460949\n",
      "c = 0.1, alpha =  0.01, max_epoch =  20\n",
      "            model_type: log_reg, score = 0.6071053450842515\n",
      "c = 0.1, alpha =  0.01, max_epoch =  20\n",
      "            model_type: lin_reg, score = 0.4088915535102786\n",
      "c = 0.1, alpha =  0.01, max_epoch =  50\n",
      "            model_type: log_reg, score = 0.611909517087282\n",
      "c = 0.1, alpha =  0.01, max_epoch =  50\n",
      "            model_type: lin_reg, score = 0.41088457826384833\n",
      "c = 0.1, alpha =  0.05, max_epoch =  5\n",
      "            model_type: log_reg, score = 0.6137212853774981\n",
      "c = 0.1, alpha =  0.05, max_epoch =  5\n",
      "            model_type: lin_reg, score = 0.4066654780309533\n",
      "c = 0.1, alpha =  0.05, max_epoch =  10\n",
      "            model_type: log_reg, score = 0.6081462431814147\n",
      "c = 0.1, alpha =  0.05, max_epoch =  10\n",
      "            model_type: lin_reg, score = 0.4087428992460949\n",
      "c = 0.1, alpha =  0.05, max_epoch =  20\n",
      "            model_type: log_reg, score = 0.6062421124648488\n",
      "c = 0.1, alpha =  0.05, max_epoch =  20\n",
      "            model_type: lin_reg, score = 0.4088915535102786\n",
      "c = 0.1, alpha =  0.05, max_epoch =  50\n",
      "            model_type: log_reg, score = 0.611000898188009\n",
      "c = 0.1, alpha =  0.05, max_epoch =  50\n",
      "            model_type: lin_reg, score = 0.41088457826384833\n",
      "c = 0.1, alpha =  0.15, max_epoch =  5\n",
      "            model_type: log_reg, score = 0.612994034529604\n",
      "c = 0.1, alpha =  0.15, max_epoch =  5\n",
      "            model_type: lin_reg, score = 0.20417925478348442\n",
      "c = 0.1, alpha =  0.15, max_epoch =  10\n",
      "            model_type: log_reg, score = 0.6087174811225818\n",
      "c = 0.1, alpha =  0.15, max_epoch =  10\n",
      "            model_type: lin_reg, score = 0.40864874852537775\n",
      "c = 0.1, alpha =  0.15, max_epoch =  20\n",
      "            model_type: log_reg, score = 0.6063171579611809\n",
      "c = 0.1, alpha =  0.15, max_epoch =  20\n",
      "            model_type: lin_reg, score = 0.4088915535102786\n",
      "c = 0.1, alpha =  0.15, max_epoch =  50\n",
      "            model_type: log_reg, score = 0.6112842896136689\n",
      "c = 0.1, alpha =  0.15, max_epoch =  50\n",
      "            model_type: lin_reg, score = 0.41088457826384833\n",
      "c = 0.1, alpha =  0.25, max_epoch =  5\n",
      "            model_type: log_reg, score = 0.6039966568307467\n",
      "c = 0.1, alpha =  0.25, max_epoch =  5\n",
      "            model_type: lin_reg, score = 0.3010563401206348\n",
      "c = 0.1, alpha =  0.25, max_epoch =  10\n",
      "            model_type: log_reg, score = 0.6087174811225818\n",
      "c = 0.1, alpha =  0.25, max_epoch =  10\n",
      "            model_type: lin_reg, score = 0.4891687229035453\n",
      "c = 0.1, alpha =  0.25, max_epoch =  20\n",
      "            model_type: log_reg, score = 0.6073427290036864\n",
      "c = 0.1, alpha =  0.25, max_epoch =  20\n",
      "            model_type: lin_reg, score = 0.45781360989502157\n",
      "c = 0.1, alpha =  0.25, max_epoch =  50\n",
      "            model_type: log_reg, score = 0.6112560754544588\n",
      "c = 0.1, alpha =  0.25, max_epoch =  50\n",
      "            model_type: lin_reg, score = 0.5145985026055753\n",
      "c = 0.1, alpha =  0.5, max_epoch =  5\n",
      "            model_type: log_reg, score = 0.6037964208201664\n",
      "c = 0.1, alpha =  0.5, max_epoch =  5\n",
      "            model_type: lin_reg, score = 0.3905832762269677\n",
      "c = 0.1, alpha =  0.5, max_epoch =  10\n",
      "            model_type: log_reg, score = 0.6136329237219008\n",
      "c = 0.1, alpha =  0.5, max_epoch =  10\n",
      "            model_type: lin_reg, score = 0.5476214870408819\n",
      "c = 0.1, alpha =  0.5, max_epoch =  20\n",
      "            model_type: log_reg, score = 0.6136879726714453\n",
      "c = 0.1, alpha =  0.5, max_epoch =  20\n",
      "            model_type: lin_reg, score = 0.5556805443359667\n",
      "c = 0.1, alpha =  0.5, max_epoch =  50\n",
      "            model_type: log_reg, score = 0.6136966117615974\n",
      "c = 0.1, alpha =  0.5, max_epoch =  50\n",
      "            model_type: lin_reg, score = 0.5658984760615818\n",
      "c = 5, alpha =  0.01, max_epoch =  5\n",
      "            model_type: log_reg, score = 0.6133112662549042\n",
      "c = 5, alpha =  0.01, max_epoch =  5\n",
      "            model_type: lin_reg, score = 0.5765989137931765\n",
      "c = 5, alpha =  0.01, max_epoch =  10\n",
      "            model_type: log_reg, score = 0.6136329237219008\n",
      "c = 5, alpha =  0.01, max_epoch =  10\n",
      "            model_type: lin_reg, score = 0.5772801233388746\n",
      "c = 5, alpha =  0.01, max_epoch =  20\n",
      "            model_type: log_reg, score = 0.6133396417570767\n",
      "c = 5, alpha =  0.01, max_epoch =  20\n",
      "            model_type: lin_reg, score = 0.5791156730406949\n",
      "c = 5, alpha =  0.01, max_epoch =  50\n",
      "            model_type: log_reg, score = 0.6133579515972775\n",
      "c = 5, alpha =  0.01, max_epoch =  50\n",
      "            model_type: lin_reg, score = 0.5845761834623028\n",
      "c = 5, alpha =  0.05, max_epoch =  5\n",
      "            model_type: log_reg, score = 0.6136323763006737\n",
      "c = 5, alpha =  0.05, max_epoch =  5\n",
      "            model_type: lin_reg, score = 0.590937066260397\n",
      "c = 5, alpha =  0.05, max_epoch =  10\n",
      "            model_type: log_reg, score = 0.611933375294981\n",
      "c = 5, alpha =  0.05, max_epoch =  10\n",
      "            model_type: lin_reg, score = 0.5748770845496093\n",
      "c = 5, alpha =  0.05, max_epoch =  20\n",
      "            model_type: log_reg, score = 0.6138249335104282\n",
      "c = 5, alpha =  0.05, max_epoch =  20\n",
      "            model_type: lin_reg, score = 0.5687752744405112\n",
      "c = 5, alpha =  0.05, max_epoch =  50\n",
      "            model_type: log_reg, score = 0.6138405373268524\n",
      "c = 5, alpha =  0.05, max_epoch =  50\n",
      "            model_type: lin_reg, score = 0.594122168483321\n",
      "c = 5, alpha =  0.15, max_epoch =  5\n",
      "            model_type: log_reg, score = 0.589644701447494\n",
      "c = 5, alpha =  0.15, max_epoch =  5\n",
      "            model_type: lin_reg, score = 0.37306098074451777\n",
      "c = 5, alpha =  0.15, max_epoch =  10\n",
      "            model_type: log_reg, score = 0.5867356337176274\n",
      "c = 5, alpha =  0.15, max_epoch =  10\n",
      "            model_type: lin_reg, score = 0.40864874852537775\n",
      "c = 5, alpha =  0.15, max_epoch =  20\n",
      "            model_type: log_reg, score = 0.5596081201320292\n",
      "c = 5, alpha =  0.15, max_epoch =  20\n",
      "            model_type: lin_reg, score = 0.4088915535102786\n",
      "c = 5, alpha =  0.15, max_epoch =  50\n",
      "            model_type: log_reg, score = 0.5870596672374321\n",
      "c = 5, alpha =  0.15, max_epoch =  50\n",
      "            model_type: lin_reg, score = 0.41088457826384833\n",
      "c = 5, alpha =  0.25, max_epoch =  5\n",
      "            model_type: log_reg, score = 0.5874816857012556\n",
      "c = 5, alpha =  0.25, max_epoch =  5\n",
      "            model_type: lin_reg, score = 0.49116299007847947\n",
      "c = 5, alpha =  0.25, max_epoch =  10\n",
      "            model_type: log_reg, score = 0.5768499840250864\n",
      "c = 5, alpha =  0.25, max_epoch =  10\n",
      "            model_type: lin_reg, score = 0.5787824913479204\n",
      "c = 5, alpha =  0.25, max_epoch =  20\n",
      "            model_type: log_reg, score = 0.5562281613256236\n",
      "c = 5, alpha =  0.25, max_epoch =  20\n",
      "            model_type: lin_reg, score = 0.48317196205252566\n",
      "c = 5, alpha =  0.25, max_epoch =  50\n",
      "            model_type: log_reg, score = 0.5813348702755218\n",
      "c = 5, alpha =  0.25, max_epoch =  50\n",
      "            model_type: lin_reg, score = 0.5590327264119964\n",
      "c = 5, alpha =  0.5, max_epoch =  5\n",
      "            model_type: log_reg, score = 0.5868394496044508\n",
      "c = 5, alpha =  0.5, max_epoch =  5\n",
      "            model_type: lin_reg, score = 0.4732736064183462\n",
      "c = 5, alpha =  0.5, max_epoch =  10\n",
      "            model_type: log_reg, score = 0.5768499840250864\n",
      "c = 5, alpha =  0.5, max_epoch =  10\n",
      "            model_type: lin_reg, score = 0.5654590510124223\n",
      "c = 5, alpha =  0.5, max_epoch =  20\n",
      "            model_type: log_reg, score = 0.5559873507684887\n",
      "c = 5, alpha =  0.5, max_epoch =  20\n",
      "            model_type: lin_reg, score = 0.5068290432220915\n",
      "c = 5, alpha =  0.5, max_epoch =  50\n",
      "            model_type: log_reg, score = 0.5803961071255962\n",
      "c = 5, alpha =  0.5, max_epoch =  50\n",
      "            model_type: lin_reg, score = 0.5230797002150678\n",
      "c = 10, alpha =  0.01, max_epoch =  5\n",
      "            model_type: log_reg, score = 0.6134850675486878\n",
      "c = 10, alpha =  0.01, max_epoch =  5\n",
      "            model_type: lin_reg, score = 0.5764623864677354\n",
      "c = 10, alpha =  0.01, max_epoch =  10\n",
      "            model_type: log_reg, score = 0.6136329237219008\n",
      "c = 10, alpha =  0.01, max_epoch =  10\n",
      "            model_type: lin_reg, score = 0.5779722348159392\n"
     ]
    },
    {
     "name": "stdout",
     "output_type": "stream",
     "text": [
      "c = 10, alpha =  0.01, max_epoch =  20\n",
      "            model_type: log_reg, score = 0.6133396417570767\n",
      "c = 10, alpha =  0.01, max_epoch =  20\n",
      "            model_type: lin_reg, score = 0.5791534265684234\n",
      "c = 10, alpha =  0.01, max_epoch =  50\n",
      "            model_type: log_reg, score = 0.6133579515972775\n",
      "c = 10, alpha =  0.01, max_epoch =  50\n",
      "            model_type: lin_reg, score = 0.5845466978860938\n",
      "c = 10, alpha =  0.05, max_epoch =  5\n",
      "            model_type: log_reg, score = 0.6133417868272679\n",
      "c = 10, alpha =  0.05, max_epoch =  5\n",
      "            model_type: lin_reg, score = 0.5961041214274522\n",
      "c = 10, alpha =  0.05, max_epoch =  10\n",
      "            model_type: log_reg, score = 0.6121644297604812\n",
      "c = 10, alpha =  0.05, max_epoch =  10\n",
      "            model_type: lin_reg, score = 0.5876233063707769\n",
      "c = 10, alpha =  0.05, max_epoch =  20\n",
      "            model_type: log_reg, score = 0.6129097928340849\n",
      "c = 10, alpha =  0.05, max_epoch =  20\n",
      "            model_type: lin_reg, score = 0.5847390111373972\n",
      "c = 10, alpha =  0.05, max_epoch =  50\n",
      "            model_type: log_reg, score = 0.6131632044029162\n",
      "c = 10, alpha =  0.05, max_epoch =  50\n",
      "            model_type: lin_reg, score = 0.5919353391213402\n",
      "c = 10, alpha =  0.15, max_epoch =  5\n",
      "            model_type: log_reg, score = 0.6041742593697981\n",
      "c = 10, alpha =  0.15, max_epoch =  5\n",
      "            model_type: lin_reg, score = 0.387663620452465\n",
      "c = 10, alpha =  0.15, max_epoch =  10\n",
      "            model_type: log_reg, score = 0.6067708279962459\n",
      "c = 10, alpha =  0.15, max_epoch =  10\n",
      "            model_type: lin_reg, score = 0.42782528546841214\n",
      "c = 10, alpha =  0.15, max_epoch =  20\n",
      "            model_type: log_reg, score = 0.5954400116317222\n",
      "c = 10, alpha =  0.15, max_epoch =  20\n",
      "            model_type: lin_reg, score = 0.42059723912900776\n",
      "c = 10, alpha =  0.15, max_epoch =  50\n",
      "            model_type: log_reg, score = 0.6007405929599833\n",
      "c = 10, alpha =  0.15, max_epoch =  50\n",
      "            model_type: lin_reg, score = 0.42491375895969563\n",
      "c = 10, alpha =  0.25, max_epoch =  5\n",
      "            model_type: log_reg, score = 0.5825902224667742\n",
      "c = 10, alpha =  0.25, max_epoch =  5\n",
      "            model_type: lin_reg, score = 0.4809234166907346\n",
      "c = 10, alpha =  0.25, max_epoch =  10\n",
      "            model_type: log_reg, score = 0.5628004860248416\n",
      "c = 10, alpha =  0.25, max_epoch =  10\n",
      "            model_type: lin_reg, score = 0.5790135716020125\n",
      "c = 10, alpha =  0.25, max_epoch =  20\n",
      "            model_type: log_reg, score = 0.544741342977152\n",
      "c = 10, alpha =  0.25, max_epoch =  20\n",
      "            model_type: lin_reg, score = 0.48745885564777147\n",
      "c = 10, alpha =  0.25, max_epoch =  50\n",
      "            model_type: log_reg, score = 0.5696922998700648\n",
      "c = 10, alpha =  0.25, max_epoch =  50\n",
      "            model_type: lin_reg, score = 0.552838197378395\n",
      "c = 10, alpha =  0.5, max_epoch =  5\n",
      "            model_type: log_reg, score = 0.5794388207788311\n",
      "c = 10, alpha =  0.5, max_epoch =  5\n",
      "            model_type: lin_reg, score = 0.47340492650136873\n",
      "c = 10, alpha =  0.5, max_epoch =  10\n",
      "            model_type: log_reg, score = 0.5543865668286704\n",
      "c = 10, alpha =  0.5, max_epoch =  10\n",
      "            model_type: lin_reg, score = 0.5661310389076749\n",
      "c = 10, alpha =  0.5, max_epoch =  20\n",
      "            model_type: log_reg, score = 0.5339631792537057\n",
      "c = 10, alpha =  0.5, max_epoch =  20\n",
      "            model_type: lin_reg, score = 0.5037288409468063\n",
      "c = 10, alpha =  0.5, max_epoch =  50\n",
      "            model_type: log_reg, score = 0.5538410659510767\n",
      "c = 10, alpha =  0.5, max_epoch =  50\n",
      "            model_type: lin_reg, score = 0.5226300921300799\n",
      "c = 20, alpha =  0.01, max_epoch =  5\n",
      "            model_type: log_reg, score = 0.6134850675486878\n",
      "c = 20, alpha =  0.01, max_epoch =  5\n",
      "            model_type: lin_reg, score = 0.5764623864677354\n",
      "c = 20, alpha =  0.01, max_epoch =  10\n",
      "            model_type: log_reg, score = 0.6136329237219008\n",
      "c = 20, alpha =  0.01, max_epoch =  10\n",
      "            model_type: lin_reg, score = 0.5776367374049665\n",
      "c = 20, alpha =  0.01, max_epoch =  20\n",
      "            model_type: log_reg, score = 0.6133396417570767\n",
      "c = 20, alpha =  0.01, max_epoch =  20\n",
      "            model_type: lin_reg, score = 0.5792402359696878\n",
      "c = 20, alpha =  0.01, max_epoch =  50\n",
      "            model_type: log_reg, score = 0.6133579515972775\n",
      "c = 20, alpha =  0.01, max_epoch =  50\n",
      "            model_type: lin_reg, score = 0.5845393651261823\n",
      "c = 20, alpha =  0.05, max_epoch =  5\n",
      "            model_type: log_reg, score = 0.6134401797814318\n",
      "c = 20, alpha =  0.05, max_epoch =  5\n",
      "            model_type: lin_reg, score = 0.5964082934907199\n",
      "c = 20, alpha =  0.05, max_epoch =  10\n",
      "            model_type: log_reg, score = 0.6121644297604812\n",
      "c = 20, alpha =  0.05, max_epoch =  10\n",
      "            model_type: lin_reg, score = 0.5870703432979206\n",
      "c = 20, alpha =  0.05, max_epoch =  20\n",
      "            model_type: log_reg, score = 0.6130479168120248\n",
      "c = 20, alpha =  0.05, max_epoch =  20\n",
      "            model_type: lin_reg, score = 0.5810995671505174\n",
      "c = 20, alpha =  0.05, max_epoch =  50\n",
      "            model_type: log_reg, score = 0.6130331011056028\n",
      "c = 20, alpha =  0.05, max_epoch =  50\n",
      "            model_type: lin_reg, score = 0.5928568269663163\n",
      "c = 20, alpha =  0.15, max_epoch =  5\n",
      "            model_type: log_reg, score = 0.613507042225681\n",
      "c = 20, alpha =  0.15, max_epoch =  5\n",
      "            model_type: lin_reg, score = 0.4923392333561037\n",
      "c = 20, alpha =  0.15, max_epoch =  10\n",
      "            model_type: log_reg, score = 0.6107207786267443\n",
      "c = 20, alpha =  0.15, max_epoch =  10\n",
      "            model_type: lin_reg, score = 0.5193780345123957\n",
      "c = 20, alpha =  0.15, max_epoch =  20\n",
      "            model_type: log_reg, score = 0.6082048429647131\n",
      "c = 20, alpha =  0.15, max_epoch =  20\n",
      "            model_type: lin_reg, score = 0.5050601358857576\n",
      "c = 20, alpha =  0.15, max_epoch =  50\n",
      "            model_type: log_reg, score = 0.6101381312583686\n",
      "c = 20, alpha =  0.15, max_epoch =  50\n",
      "            model_type: lin_reg, score = 0.5277933105571959\n",
      "c = 20, alpha =  0.25, max_epoch =  5\n",
      "            model_type: log_reg, score = 0.5977932779573442\n",
      "c = 20, alpha =  0.25, max_epoch =  5\n",
      "            model_type: lin_reg, score = 0.48078430652937504\n",
      "c = 20, alpha =  0.25, max_epoch =  10\n",
      "            model_type: log_reg, score = 0.5967884386434769\n",
      "c = 20, alpha =  0.25, max_epoch =  10\n",
      "            model_type: lin_reg, score = 0.578625776787236\n",
      "c = 20, alpha =  0.25, max_epoch =  20\n",
      "            model_type: log_reg, score = 0.5825075034299347\n",
      "c = 20, alpha =  0.25, max_epoch =  20\n",
      "            model_type: lin_reg, score = 0.49034775373781\n",
      "c = 20, alpha =  0.25, max_epoch =  50\n",
      "            model_type: log_reg, score = 0.5935212846013052\n",
      "c = 20, alpha =  0.25, max_epoch =  50\n",
      "            model_type: lin_reg, score = 0.54708285020564\n",
      "c = 20, alpha =  0.5, max_epoch =  5\n",
      "            model_type: log_reg, score = 0.5631495711811327\n",
      "c = 20, alpha =  0.5, max_epoch =  5\n",
      "            model_type: lin_reg, score = 0.4741423750689144\n",
      "c = 20, alpha =  0.5, max_epoch =  10\n",
      "            model_type: log_reg, score = 0.5269415421339203\n",
      "c = 20, alpha =  0.5, max_epoch =  10\n",
      "            model_type: lin_reg, score = 0.5675249932503016\n",
      "c = 20, alpha =  0.5, max_epoch =  20\n",
      "            model_type: log_reg, score = 0.4943030450673396\n",
      "c = 20, alpha =  0.5, max_epoch =  20\n",
      "            model_type: lin_reg, score = 0.5034064182355206\n",
      "c = 20, alpha =  0.5, max_epoch =  50\n",
      "            model_type: log_reg, score = 0.5404711411300503\n",
      "c = 20, alpha =  0.5, max_epoch =  50\n",
      "            model_type: lin_reg, score = 0.5227195402616768\n",
      "c = 30, alpha =  0.01, max_epoch =  5\n",
      "            model_type: log_reg, score = 0.6134850675486878\n",
      "c = 30, alpha =  0.01, max_epoch =  5\n",
      "            model_type: lin_reg, score = 0.576416926123368\n",
      "c = 30, alpha =  0.01, max_epoch =  10\n",
      "            model_type: log_reg, score = 0.6136329237219008\n",
      "c = 30, alpha =  0.01, max_epoch =  10\n",
      "            model_type: lin_reg, score = 0.577681239533531\n",
      "c = 30, alpha =  0.01, max_epoch =  20\n",
      "            model_type: log_reg, score = 0.6133396417570767\n",
      "c = 30, alpha =  0.01, max_epoch =  20\n",
      "            model_type: lin_reg, score = 0.5792402359696878\n",
      "c = 30, alpha =  0.01, max_epoch =  50\n",
      "            model_type: log_reg, score = 0.6133579515972775\n",
      "c = 30, alpha =  0.01, max_epoch =  50\n",
      "            model_type: lin_reg, score = 0.5845393651261823\n"
     ]
    },
    {
     "name": "stdout",
     "output_type": "stream",
     "text": [
      "c = 30, alpha =  0.05, max_epoch =  5\n",
      "            model_type: log_reg, score = 0.6134401797814318\n",
      "c = 30, alpha =  0.05, max_epoch =  5\n",
      "            model_type: lin_reg, score = 0.5931944249340574\n",
      "c = 30, alpha =  0.05, max_epoch =  10\n",
      "            model_type: log_reg, score = 0.6121644297604812\n",
      "c = 30, alpha =  0.05, max_epoch =  10\n",
      "            model_type: lin_reg, score = 0.588740570686309\n",
      "c = 30, alpha =  0.05, max_epoch =  20\n",
      "            model_type: log_reg, score = 0.6130479168120248\n",
      "c = 30, alpha =  0.05, max_epoch =  20\n",
      "            model_type: lin_reg, score = 0.5827124332135113\n",
      "c = 30, alpha =  0.05, max_epoch =  50\n",
      "            model_type: log_reg, score = 0.6130331011056028\n",
      "c = 30, alpha =  0.05, max_epoch =  50\n",
      "            model_type: lin_reg, score = 0.5846043850271333\n",
      "c = 30, alpha =  0.15, max_epoch =  5\n",
      "            model_type: log_reg, score = 0.6138800748329825\n",
      "c = 30, alpha =  0.15, max_epoch =  5\n",
      "            model_type: lin_reg, score = 0.5205508466628215\n",
      "c = 30, alpha =  0.15, max_epoch =  10\n",
      "            model_type: log_reg, score = 0.6112603542608885\n",
      "c = 30, alpha =  0.15, max_epoch =  10\n",
      "            model_type: lin_reg, score = 0.5411483763354119\n",
      "c = 30, alpha =  0.15, max_epoch =  20\n",
      "            model_type: log_reg, score = 0.6114583182678778\n",
      "c = 30, alpha =  0.15, max_epoch =  20\n",
      "            model_type: lin_reg, score = 0.5293357893932757\n",
      "c = 30, alpha =  0.15, max_epoch =  50\n",
      "            model_type: log_reg, score = 0.6109475629152111\n",
      "c = 30, alpha =  0.15, max_epoch =  50\n",
      "            model_type: lin_reg, score = 0.5520402906590842\n",
      "c = 30, alpha =  0.25, max_epoch =  5\n",
      "            model_type: log_reg, score = 0.6061591959982233\n",
      "c = 30, alpha =  0.25, max_epoch =  5\n",
      "            model_type: lin_reg, score = 0.4805052602635529\n",
      "c = 30, alpha =  0.25, max_epoch =  10\n",
      "            model_type: log_reg, score = 0.60779813338846\n",
      "c = 30, alpha =  0.25, max_epoch =  10\n",
      "            model_type: lin_reg, score = 0.5783658089167351\n",
      "c = 30, alpha =  0.25, max_epoch =  20\n",
      "            model_type: log_reg, score = 0.5989374188624331\n",
      "c = 30, alpha =  0.25, max_epoch =  20\n",
      "            model_type: lin_reg, score = 0.4921429464961849\n",
      "c = 30, alpha =  0.25, max_epoch =  50\n",
      "            model_type: log_reg, score = 0.6001792704585581\n",
      "c = 30, alpha =  0.25, max_epoch =  50\n",
      "            model_type: lin_reg, score = 0.5467207557382511\n",
      "c = 30, alpha =  0.5, max_epoch =  5\n",
      "            model_type: log_reg, score = 0.5722710079793774\n",
      "c = 30, alpha =  0.5, max_epoch =  5\n",
      "            model_type: lin_reg, score = 0.4745795408418618\n",
      "c = 30, alpha =  0.5, max_epoch =  10\n",
      "            model_type: log_reg, score = 0.5343022195135415\n",
      "c = 30, alpha =  0.5, max_epoch =  10\n",
      "            model_type: lin_reg, score = 0.5674235515966813\n",
      "c = 30, alpha =  0.5, max_epoch =  20\n",
      "            model_type: log_reg, score = 0.5038687772230613\n",
      "c = 30, alpha =  0.5, max_epoch =  20\n",
      "            model_type: lin_reg, score = 0.5031149277617827\n",
      "c = 30, alpha =  0.5, max_epoch =  50\n",
      "            model_type: log_reg, score = 0.5450457178041278\n",
      "c = 30, alpha =  0.5, max_epoch =  50\n",
      "            model_type: lin_reg, score = 0.5229453569912937\n",
      "{'C': 30, 'alpha': 0.15, 'epoch': 5, 'model_type': 'log_reg'}\n",
      "0.6138800748329825\n"
     ]
    }
   ],
   "source": [
    "from sklearn.model_selection import KFold\n",
    "\n",
    "kf = KFold(n_splits=3, shuffle = True)\n",
    "\n",
    "c_range = [0.1, 5, 10, 20, 30]\n",
    "alpha_range = [0.01, 0.05, 0.15, 0.25, 0.5]\n",
    "epoch_range = [5, 10, 20, 50]\n",
    "\n",
    "best_model = {}\n",
    "max_score = 0.0\n",
    "\n",
    "for c in c_range:\n",
    "    for alpha in alpha_range:\n",
    "        for max_epoch in epoch_range:\n",
    "            clf = MySGDClassifier(batch_generator, C = c,alpha = alpha, \n",
    "                                  max_epoch = max_epoch, model_type = 'log_reg', batch_size = 200)\n",
    "            ind = kf.split(X)\n",
    "            scores = []\n",
    "            for train_ind, test_ind in ind:\n",
    "                clf.fit(X[train_ind], y_train[train_ind])\n",
    "                scores.append(f1_score(y_train[test_ind], clf.predict(X[test_ind])))\n",
    "            score = np.mean(np.array(scores))\n",
    "            \n",
    "            if score > max_score:\n",
    "                best_model = {'C': c, 'alpha': alpha, 'epoch': max_epoch, 'model_type': 'log_reg'}\n",
    "                max_score = score\n",
    "                \n",
    "            print('''c = {}, alpha =  {}, max_epoch =  {}\n",
    "            model_type: log_reg, score = {}'''.format(c, alpha, max_epoch, score))\n",
    "            \n",
    "            clf = MySGDClassifier(batch_generator,C = c, alpha = alpha, \n",
    "                                  max_epoch = max_epoch, model_type = 'lin_reg', batch_size = 200)\n",
    "            ind = kf.split(X)\n",
    "            scores = []\n",
    "            for train_ind, test_ind in ind:\n",
    "                clf.fit(X[train_ind], y_train[train_ind])\n",
    "                scores.append(f1_score(y_train[test_ind], (clf.predict(X[test_ind]) >= 0.5).astype(int)))\n",
    "            score = np.mean(np.array(scores))\n",
    "            \n",
    "            if score > max_score:\n",
    "                best_model = {'C': c, 'alpha': alpha, 'epoch': max_epoch, 'model_type': 'lin_reg'}\n",
    "                max_score = score\n",
    "                \n",
    "            print('''c = {}, alpha =  {}, max_epoch =  {}\n",
    "            model_type: lin_reg, score = {}'''.format(c, alpha, max_epoch, score))\n",
    "            \n",
    "print(best_model)\n",
    "print(max_score)"
   ]
  },
  {
   "cell_type": "code",
   "execution_count": 16,
   "metadata": {},
   "outputs": [
    {
     "name": "stdout",
     "output_type": "stream",
     "text": [
      "{'C': 30, 'alpha': 0.15, 'epoch': 5, 'model_type': 'log_reg', 'batch_size': 200}\n"
     ]
    }
   ],
   "source": [
    "best_model['batch_size'] = 200\n",
    "print(best_model)"
   ]
  },
  {
   "cell_type": "markdown",
   "metadata": {
    "collapsed": true
   },
   "source": [
    "Подберите порог линейной модели, по достижении которого, Вы будете относить объект к классу 1. Вспомните, какую метрику мы оптимизируем в соревновании.  Как тогда правильно подобрать порог?"
   ]
  },
  {
   "cell_type": "code",
   "execution_count": 17,
   "metadata": {},
   "outputs": [
    {
     "name": "stdout",
     "output_type": "stream",
     "text": [
      "threshold = 0.2, score = 0.6138800748329825\n",
      "threshold = 0.3, score = 0.6123175105105768\n",
      "threshold = 0.4, score = 0.6123175105105768\n",
      "threshold = 0.5, score = 0.6123175105105768\n",
      "threshold = 0.6, score = 0.6123175105105768\n",
      "threshold = 0.7, score = 0.6123175105105768\n",
      "threshold = 0.8, score = 0.6123175105105768\n",
      "{'C': 30, 'alpha': 0.15, 'epoch': 5, 'model_type': 'log_reg', 'batch_size': 200, 'threshold': 0.2}\n",
      "0.6138800748329825\n"
     ]
    }
   ],
   "source": [
    "kf = KFold(n_splits=3, shuffle = True)\n",
    "\n",
    "threshold_range = [0.2, 0.3, 0.4, 0.5, 0.6, 0.7, 0.8]\n",
    "\n",
    "c, alpha, max_epoch = best_model['C'], best_model['alpha'], best_model['epoch']\n",
    "model_type, batch_size = best_model['model_type'], best_model['batch_size']\n",
    "\n",
    "best_threshold = 0\n",
    "max_score = 0\n",
    "\n",
    "for threshold in threshold_range:\n",
    "    clf = MySGDClassifier(batch_generator, C = c,alpha = alpha, \n",
    "                          max_epoch = max_epoch, model_type = model_type, batch_size = batch_size)\n",
    "    ind = kf.split(X)\n",
    "    scores = []\n",
    "    for train_ind, test_ind in ind:\n",
    "        clf.fit(X[train_ind], y_train[train_ind])\n",
    "        scores.append(f1_score(y_train[test_ind], clf.predict(X[test_ind])))\n",
    "    score = np.mean(np.array(scores))\n",
    "            \n",
    "    if score > max_score:\n",
    "        best_threshold = threshold\n",
    "        max_score = score\n",
    "                \n",
    "    print('''threshold = {}, score = {}'''.format(threshold, score))\n",
    "            \n",
    "best_model['threshold'] = best_threshold\n",
    "print(best_model)\n",
    "print(max_score)"
   ]
  },
  {
   "cell_type": "code",
   "execution_count": 18,
   "metadata": {},
   "outputs": [
    {
     "name": "stdout",
     "output_type": "stream",
     "text": [
      "{'C': 30, 'alpha': 0.15, 'epoch': 5, 'model_type': 'log_reg', 'batch_size': 200, 'threshold': 0.2}\n"
     ]
    }
   ],
   "source": [
    "print(best_model)"
   ]
  },
  {
   "cell_type": "markdown",
   "metadata": {},
   "source": [
    "С лучшими параметрами на валидации сделайте предсказание на тестовом множестве, отправьте его на проверку на платформу kaggle. Убедитесь, что Вы смогли побить public score первого бейзлайна."
   ]
  },
  {
   "cell_type": "markdown",
   "metadata": {
    "collapsed": true
   },
   "source": [
    "** При сдаче домашки Вам необходимо кроме ссылки на ноутбук показать Ваш ник на kaggle, под которым Вы залили решение, которое побило Handmade baseline. **"
   ]
  },
  {
   "cell_type": "code",
   "execution_count": 19,
   "metadata": {},
   "outputs": [],
   "source": [
    "test_data = pd.read_csv('test_groups.csv')\n",
    "testgroups_titledata = {}\n",
    "for i in range(len(test_data)):\n",
    "    new_doc = test_data.iloc[i]\n",
    "    doc_group = new_doc['group_id']\n",
    "    doc_id = new_doc['doc_id']\n",
    "    title = doc_to_title[doc_id]\n",
    "    if doc_group not in testgroups_titledata:\n",
    "        testgroups_titledata[doc_group] = []\n",
    "    testgroups_titledata[doc_group].append((doc_id, title))"
   ]
  },
  {
   "cell_type": "code",
   "execution_count": 20,
   "metadata": {},
   "outputs": [
    {
     "name": "stdout",
     "output_type": "stream",
     "text": [
      "(16627, 15) (16627,)\n"
     ]
    }
   ],
   "source": [
    "import numpy as np\n",
    "X_test = []\n",
    "groups_test = []\n",
    "for new_group in testgroups_titledata:\n",
    "    docs = testgroups_titledata[new_group]\n",
    "    for k, (doc_id, title) in enumerate(docs):\n",
    "        groups_test.append(new_group)\n",
    "        all_dist = []\n",
    "        words = set(title.strip().split())\n",
    "        for j in range(0, len(docs)):\n",
    "            if k == j:\n",
    "                continue\n",
    "            doc_id_j, title_j = docs[j]\n",
    "            words_j = set(title_j.strip().split())\n",
    "            all_dist.append(len(words.intersection(words_j)))\n",
    "        X_test.append(sorted(all_dist, reverse=True)[0:15]    )\n",
    "X_test = np.array(X_test)\n",
    "groups_test = np.array(groups_test)\n",
    "print (X_test.shape, groups_test.shape)"
   ]
  },
  {
   "cell_type": "code",
   "execution_count": 21,
   "metadata": {},
   "outputs": [
    {
     "name": "stdout",
     "output_type": "stream",
     "text": [
      "(16627, 15)\n"
     ]
    }
   ],
   "source": [
    "st = StandardScaler()\n",
    "X_test = st.fit_transform(X_test, y_train)\n",
    "print(X_test.shape)"
   ]
  },
  {
   "cell_type": "code",
   "execution_count": 22,
   "metadata": {},
   "outputs": [
    {
     "name": "stdout",
     "output_type": "stream",
     "text": [
      "[11691 11692 11693 ... 28315 28316 28317]\n"
     ]
    }
   ],
   "source": [
    "sample = pd.read_csv('sample_submission.csv')\n",
    "id_range = sample['pair_id'].values\n",
    "print(id_range)"
   ]
  },
  {
   "cell_type": "code",
   "execution_count": 23,
   "metadata": {},
   "outputs": [],
   "source": [
    "clf = MySGDClassifier(batch_generator, C = best_model['C'], alpha = best_model['alpha'], \n",
    "                      max_epoch = best_model['epoch'], model_type = best_model['model_type'], \n",
    "                      batch_size = best_model['batch_size'])\n",
    "clf.fit(X, y_train)\n",
    "threshold = best_model['threshold']\n",
    "y_pred = (clf.predict(X_test) >= threshold).astype(int)"
   ]
  },
  {
   "cell_type": "code",
   "execution_count": 29,
   "metadata": {},
   "outputs": [
    {
     "data": {
      "text/html": [
       "<div>\n",
       "<style scoped>\n",
       "    .dataframe tbody tr th:only-of-type {\n",
       "        vertical-align: middle;\n",
       "    }\n",
       "\n",
       "    .dataframe tbody tr th {\n",
       "        vertical-align: top;\n",
       "    }\n",
       "\n",
       "    .dataframe thead th {\n",
       "        text-align: right;\n",
       "    }\n",
       "</style>\n",
       "<table border=\"1\" class=\"dataframe\">\n",
       "  <thead>\n",
       "    <tr style=\"text-align: right;\">\n",
       "      <th></th>\n",
       "      <th>pair_id</th>\n",
       "      <th>target</th>\n",
       "    </tr>\n",
       "  </thead>\n",
       "  <tbody>\n",
       "    <tr>\n",
       "      <td>0</td>\n",
       "      <td>11691</td>\n",
       "      <td>0</td>\n",
       "    </tr>\n",
       "    <tr>\n",
       "      <td>1</td>\n",
       "      <td>11692</td>\n",
       "      <td>1</td>\n",
       "    </tr>\n",
       "    <tr>\n",
       "      <td>2</td>\n",
       "      <td>11693</td>\n",
       "      <td>1</td>\n",
       "    </tr>\n",
       "    <tr>\n",
       "      <td>3</td>\n",
       "      <td>11694</td>\n",
       "      <td>1</td>\n",
       "    </tr>\n",
       "    <tr>\n",
       "      <td>4</td>\n",
       "      <td>11695</td>\n",
       "      <td>1</td>\n",
       "    </tr>\n",
       "    <tr>\n",
       "      <td>...</td>\n",
       "      <td>...</td>\n",
       "      <td>...</td>\n",
       "    </tr>\n",
       "    <tr>\n",
       "      <td>16622</td>\n",
       "      <td>28313</td>\n",
       "      <td>0</td>\n",
       "    </tr>\n",
       "    <tr>\n",
       "      <td>16623</td>\n",
       "      <td>28314</td>\n",
       "      <td>0</td>\n",
       "    </tr>\n",
       "    <tr>\n",
       "      <td>16624</td>\n",
       "      <td>28315</td>\n",
       "      <td>1</td>\n",
       "    </tr>\n",
       "    <tr>\n",
       "      <td>16625</td>\n",
       "      <td>28316</td>\n",
       "      <td>0</td>\n",
       "    </tr>\n",
       "    <tr>\n",
       "      <td>16626</td>\n",
       "      <td>28317</td>\n",
       "      <td>1</td>\n",
       "    </tr>\n",
       "  </tbody>\n",
       "</table>\n",
       "<p>16627 rows × 2 columns</p>\n",
       "</div>"
      ],
      "text/plain": [
       "       pair_id  target\n",
       "0        11691       0\n",
       "1        11692       1\n",
       "2        11693       1\n",
       "3        11694       1\n",
       "4        11695       1\n",
       "...        ...     ...\n",
       "16622    28313       0\n",
       "16623    28314       0\n",
       "16624    28315       1\n",
       "16625    28316       0\n",
       "16626    28317       1\n",
       "\n",
       "[16627 rows x 2 columns]"
      ]
     },
     "execution_count": 29,
     "metadata": {},
     "output_type": "execute_result"
    }
   ],
   "source": [
    "pred = pd.DataFrame({'pair_id' : id_range, 'target': y_pred})\n",
    "pred.to_csv('predictions.csv', index = False)\n",
    "pred"
   ]
  },
  {
   "cell_type": "markdown",
   "metadata": {},
   "source": [
    "# Фидбек (бесценно)"
   ]
  },
  {
   "cell_type": "markdown",
   "metadata": {},
   "source": [
    "* Какие аспекты обучения линейных моделей Вам показались непонятными? Какое место стоит дополнительно объяснить?"
   ]
  },
  {
   "cell_type": "markdown",
   "metadata": {},
   "source": [
    "***Ваше ответ здесь***"
   ]
  },
  {
   "cell_type": "markdown",
   "metadata": {},
   "source": [
    "* Здесь Вы можете оставить отзыв о этой домашней работе или о всем курсе.   "
   ]
  },
  {
   "cell_type": "markdown",
   "metadata": {},
   "source": [
    "*** ВАШ ОТЗЫВ ЗДЕСЬ***"
   ]
  },
  {
   "cell_type": "code",
   "execution_count": null,
   "metadata": {
    "collapsed": true
   },
   "outputs": [],
   "source": []
  },
  {
   "cell_type": "code",
   "execution_count": null,
   "metadata": {
    "collapsed": true
   },
   "outputs": [],
   "source": []
  }
 ],
 "metadata": {
  "anaconda-cloud": {},
  "kernelspec": {
   "display_name": "Python 3",
   "language": "python",
   "name": "python3"
  },
  "language_info": {
   "codemirror_mode": {
    "name": "ipython",
    "version": 3
   },
   "file_extension": ".py",
   "mimetype": "text/x-python",
   "name": "python",
   "nbconvert_exporter": "python",
   "pygments_lexer": "ipython3",
   "version": "3.7.4"
  },
  "nav_menu": {},
  "toc": {
   "colors": {
    "hover_highlight": "#DAA520",
    "navigate_num": "#000000",
    "navigate_text": "#333333",
    "running_highlight": "#FF0000",
    "selected_highlight": "#FFD700",
    "sidebar_border": "#EEEEEE",
    "wrapper_background": "#FFFFFF"
   },
   "moveMenuLeft": true,
   "nav_menu": {
    "height": "402px",
    "width": "253px"
   },
   "navigate_menu": true,
   "number_sections": false,
   "sideBar": true,
   "threshold": 4,
   "toc_cell": false,
   "toc_section_display": "block",
   "toc_window_display": true,
   "widenNotebook": false
  }
 },
 "nbformat": 4,
 "nbformat_minor": 2
}
