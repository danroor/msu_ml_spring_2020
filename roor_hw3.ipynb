{
 "cells": [
  {
   "cell_type": "markdown",
   "metadata": {},
   "source": [
    "### Алгоритмы интеллектуальной обработки больших объемов данных\n",
    "## Домашнее задание №3 - Дерево решений\n"
   ]
  },
  {
   "cell_type": "markdown",
   "metadata": {},
   "source": [
    "**Общая информация**\n",
    "\n",
    "**Срок сдачи:** 27 апреля 2020, 08:30   \n",
    "**Штраф за опоздание:** -2 балла после 08:30 27 апреля, -4 балла после 08:30 4 мая, -6 баллов после 08:30 11 мая, -8 баллов после 08:30 18 мая.\n",
    "\n",
    "При отправлении ДЗ указывайте фамилию в названии файла Присылать ДЗ необходимо в виде ссылки на свой github репозиторий на почту ml1.sphere@mail.ru с указанием темы в следующем формате:\n",
    "[ML0220, Задание 3] Фамилия Имя. \n",
    "\n",
    "\n",
    "Используйте данный Ipython Notebook при оформлении домашнего задания."
   ]
  },
  {
   "cell_type": "markdown",
   "metadata": {},
   "source": [
    "##  Реализуем дерево решений (3 балла)"
   ]
  },
  {
   "cell_type": "markdown",
   "metadata": {},
   "source": [
    "Допишите недостающие части дерева решений. Ваша реализация дерева должна работать по точности не хуже DecisionTreeClassifier из sklearn.\n",
    "Внимание: если Вас не устраивает предложенная структура хранения дерева, Вы без потери баллов можете сделать свой класс DecisionTreeClassifier, в котором сами полностью воспроизведете алгоритм дерева решений. Обязательно в нем иметь только функции fit, predict"
   ]
  },
  {
   "cell_type": "code",
   "execution_count": 1,
   "metadata": {},
   "outputs": [],
   "source": [
    "import matplotlib.pyplot as plt\n",
    "import numpy as np\n",
    "import pandas as pd\n",
    "\n",
    "from sklearn.datasets import load_wine\n",
    "from sklearn.ensemble import RandomForestClassifier\n",
    "from sklearn.metrics import accuracy_score\n",
    "from sklearn.model_selection import KFold, train_test_split, GridSearchCV, RandomizedSearchCV\n",
    "from sklearn.tree import DecisionTreeClassifier\n"
   ]
  },
  {
   "cell_type": "code",
   "execution_count": 16,
   "metadata": {},
   "outputs": [],
   "source": [
    "class MyDecisionTreeClassifier:\n",
    "    NON_LEAF_TYPE = 0\n",
    "    LEAF_TYPE = 1\n",
    "\n",
    "    def __init__(self, min_samples_split=2, max_depth=5, criterion='gini'):\n",
    "        \"\"\"\n",
    "        criterion -- критерий расщепления. необходимо релизовать три:\n",
    "        Ошибка классификации, Индекс Джини, Энтропийный критерий\n",
    "        max_depth -- максимальная глубина дерева\n",
    "        min_samples_split -- минимальное число объектов в листе, чтобы сделать новый сплит\n",
    "        \"\"\"\n",
    "        self.min_samples_split = min_samples_split\n",
    "        self.max_depth = max_depth\n",
    "        self.num_class = -1\n",
    "        # Для последнего задания\n",
    "        self.feature_importances_ = None\n",
    "        self.criterion = criterion\n",
    "        # Структура, которая описывает дерево\n",
    "        # Представляет словарь, где для  node_id (айдишник узла дерева) храним\n",
    "        # (тип_узла, айдишник признака сплита, порог сплита) если тип NON_LEAF_TYPE\n",
    "        # (тип_узла, предсказание класса, вероятность класса) если тип LEAF_TYPE\n",
    "        # Подразумевается, что у каждого node_id в дереве слева \n",
    "        # узел с айди 2 * node_id + 1, а справа 2 * node_id + 2\n",
    "        self.tree = dict()\n",
    "\n",
    "    def __div_samples(self, x, y, feature_id, threshold):\n",
    "        \"\"\"\n",
    "        Разделяет объекты на 2 множества\n",
    "        x -- матрица объектов\n",
    "        y -- вектор ответов\n",
    "        feature_id -- айдишник признака, по которому делаем сплит\n",
    "        threshold -- порог, по которому делаем сплит\n",
    "        \"\"\"\n",
    "        left_mask = x[:, feature_id] > threshold\n",
    "        right_mask = ~left_mask\n",
    "        return x[left_mask], x[right_mask], y[left_mask], y[right_mask]\n",
    "    \n",
    "    def __gini_F(self, l, r):\n",
    "        return 1 -(l / (l + r)) ** 2 - (r / (l + r)) ** 2\n",
    "\n",
    "    def __entropy_F(self, l, r):\n",
    "        def mylog2(x):\n",
    "            x[np.where(x < 1e-37)] = 1 # assume 0 * ln 0 = 0 (x=0 -> x=1 -> ln x = 0)\n",
    "            return np.log2(x)\n",
    "                \n",
    "        return -(l / (l + r)) * mylog2(l / (l + r))  - (r / (l + r)) * mylog2(r / (l + r))\n",
    "\n",
    "    def __misclass_F(self, l, r):\n",
    "        return 1 - np.maximum(l / (l + r), r / (l + r))\n",
    "    \n",
    "    def impurity(self, l, ls, r, rs):\n",
    "        if self.criterion == 'entropy':\n",
    "            F = self.__entropy_F\n",
    "        elif self.criterion == 'misclass':\n",
    "            F = self.__misclass_F\n",
    "        else:\n",
    "            F = self.__gini_F\n",
    "        \n",
    "        return F(l, r) - l / (l + r) * F(ls, l - ls) - r / (l + r) * F(rs, r - rs)\n",
    "    \n",
    "    def __find_threshold(self, x, y):\n",
    "        \"\"\"\n",
    "        Находим оптимальный признак и порог для сплита\n",
    "        Здесь используемые разные impurity в зависимости от self.criterion\n",
    "        \"\"\"\n",
    "        x = x.T\n",
    "        s_x = np.sort(x, axis = 1)\n",
    "        s_y = y[x.argsort(axis = 1)]\n",
    "        \n",
    "        s_y = (s_y == y[0]).astype(int)\n",
    "        _, occurs = np.bincount(s_y[0])\n",
    "        sumsl = np.cumsum(s_y, axis = 1)\n",
    "        sumsr = occurs - sumsl\n",
    "        len_ = s_y.shape[1]\n",
    "        \n",
    "        l = np.array(np.array(range(len_)) + np.zeros(s_y.shape[0]).reshape(-1, 1))\n",
    "        l[:, 0] += 1\n",
    "        r = len_ - l\n",
    "        impurities = self.impurity(l, sumsl, r, sumsr)\n",
    "        feature_id, threshold_idx = np.unravel_index(np.argmax(impurities), impurities.shape)\n",
    "        \n",
    "        return feature_id, s_x[feature_id, threshold_idx], impurities[feature_id, threshold_idx]\n",
    "    \n",
    "    def __fit_node(self, x, y, node_id, depth):\n",
    "        \"\"\"\n",
    "        Делаем новый узел в дереве\n",
    "        Решаем, терминальный он или нет\n",
    "        Если нет, то строим левый узел  с айди 2 * node_id + 1\n",
    "        И правый узел с  айди 2 * node_id + 2\n",
    "        \"\"\"\n",
    "        \n",
    "        if (depth == self.max_depth) or (y.size < self.min_samples_split):\n",
    "            y1, c = np.unique(y, return_counts = True)\n",
    "            prob = c / y.size\n",
    "            c = (-c).argsort()\n",
    "            y1 = y1[c]\n",
    "            self.tree[node_id] = (self.__class__.LEAF_TYPE, y1[0], prob)\n",
    "        else:\n",
    "            feature_id, threshold, crit_val = self.__find_threshold(x, y)\n",
    "            x_left, x_right, y_left, y_right = self.__div_samples(x, y, feature_id, threshold)\n",
    "            \n",
    "            if y_left.size > 0 and y_right.size > 0:\n",
    "                self.tree[node_id] = (self.__class__.NON_LEAF_TYPE, feature_id, threshold)\n",
    "                self.feature_importances[feature_id] += y.size * crit_val / x.shape[0]\n",
    "                self.__fit_node(x_left, y_left, 2 * node_id + 1, depth + 1)\n",
    "                self.__fit_node(x_right, y_right, 2 * node_id + 2, depth + 1)\n",
    "            else:\n",
    "                y1, c = np.unique(y, return_counts = True)\n",
    "                prob = c / y.size\n",
    "                c = (-c).argsort()\n",
    "                y1 = y1[c]\n",
    "                self.tree[node_id] = (self.__class__.LEAF_TYPE, y1[0], prob)\n",
    "    \n",
    "    def fit(self, x, y):\n",
    "        \"\"\"\n",
    "        Рекурсивно строим дерево решений\n",
    "        Начинаем с корня node_id 0\n",
    "        \"\"\"\n",
    "        self.num_class = np.unique(y).size\n",
    "        self.feature_importances = np.zeros(x.shape[1])\n",
    "        self.__fit_node(x, y, 0, 0) \n",
    "\n",
    "    def __predict_class(self, x, node_id):\n",
    "        \"\"\"\n",
    "        Рекурсивно обходим дерево по всем узлам,\n",
    "        пока не дойдем до терминального\n",
    "        \"\"\"\n",
    "        node = self.tree[node_id]\n",
    "        if node[0] == self.__class__.NON_LEAF_TYPE:\n",
    "            _, feature_id, threshold = node\n",
    "            if x[feature_id] > threshold:\n",
    "                return self.__predict_class(x, 2 * node_id + 1)\n",
    "            else:\n",
    "                return self.__predict_class(x, 2 * node_id + 2)\n",
    "        else:\n",
    "            return node[1]\n",
    "        \n",
    "    def predict(self, X):\n",
    "        \"\"\"\n",
    "        Вызывает predict для всех объектов из матрицы X\n",
    "        \"\"\"\n",
    "        return np.array([self.__predict_class(x, 0) for x in X])\n",
    "    \n",
    "    def fit_predict(self, x_train, y_train, predicted_x):\n",
    "        self.fit(x_train, y_train)\n",
    "        return self.predict(predicted_x)\n",
    "    \n",
    "    def get_feature_importance(self):\n",
    "        \"\"\"\n",
    "        Возвращает важность признаков\n",
    "        \"\"\"\n",
    "        return self.feature_importances"
   ]
  },
  {
   "cell_type": "code",
   "execution_count": 3,
   "metadata": {},
   "outputs": [],
   "source": [
    "my_clf = MyDecisionTreeClassifier(min_samples_split = 2)\n",
    "clf = DecisionTreeClassifier(min_samples_split = 2)"
   ]
  },
  {
   "cell_type": "code",
   "execution_count": 4,
   "metadata": {},
   "outputs": [],
   "source": [
    "wine = load_wine()\n",
    "X_train, X_test, y_train, y_test = train_test_split(wine.data, wine.target, test_size=0.1, stratify=wine.target)"
   ]
  },
  {
   "cell_type": "code",
   "execution_count": 5,
   "metadata": {},
   "outputs": [
    {
     "name": "stdout",
     "output_type": "stream",
     "text": [
      "0.9444444444444444 0.9444444444444444\n"
     ]
    }
   ],
   "source": [
    "clf.fit(X_train, y_train)\n",
    "my_clf.fit(X_train, y_train)\n",
    "print(accuracy_score(y_pred=clf.predict(X_test), y_true=y_test),\n",
    "      accuracy_score(y_pred=my_clf.predict(X_test), y_true=y_test))"
   ]
  },
  {
   "cell_type": "markdown",
   "metadata": {},
   "source": [
    "## Ускоряем дерево решений (2 балла)\n",
    "Добиться скорости работы на fit не медленнее чем в 10 раз sklearn на данных wine. \n",
    "Для этого используем numpy."
   ]
  },
  {
   "cell_type": "code",
   "execution_count": 6,
   "metadata": {
    "scrolled": true
   },
   "outputs": [
    {
     "name": "stdout",
     "output_type": "stream",
     "text": [
      "CPU times: user 3.81 ms, sys: 673 µs, total: 4.48 ms\n",
      "Wall time: 4.26 ms\n"
     ]
    },
    {
     "data": {
      "text/plain": [
       "DecisionTreeClassifier(class_weight=None, criterion='gini', max_depth=None,\n",
       "                       max_features=None, max_leaf_nodes=None,\n",
       "                       min_impurity_decrease=0.0, min_impurity_split=None,\n",
       "                       min_samples_leaf=1, min_samples_split=2,\n",
       "                       min_weight_fraction_leaf=0.0, presort=False,\n",
       "                       random_state=None, splitter='best')"
      ]
     },
     "execution_count": 6,
     "metadata": {},
     "output_type": "execute_result"
    }
   ],
   "source": [
    "%time clf.fit(X_train, y_train)"
   ]
  },
  {
   "cell_type": "code",
   "execution_count": 7,
   "metadata": {},
   "outputs": [
    {
     "name": "stdout",
     "output_type": "stream",
     "text": [
      "CPU times: user 15.2 ms, sys: 0 ns, total: 15.2 ms\n",
      "Wall time: 14 ms\n"
     ]
    }
   ],
   "source": [
    "%time my_clf.fit(X_train, y_train)"
   ]
  },
  {
   "cell_type": "code",
   "execution_count": null,
   "metadata": {
    "collapsed": true
   },
   "outputs": [],
   "source": []
  },
  {
   "cell_type": "markdown",
   "metadata": {},
   "source": [
    "## Боевое применение (3 балла)\n",
    "\n",
    "На практике Вы познакомились с датасетом Speed Dating Data. В нем каждая пара в быстрых свиданиях характеризуется определенным набором признаков. Задача -- предсказать, произойдет ли матч пары (колонка match). \n",
    "\n",
    "Пример работы с датасетом можете найти в практике пункт 2\n",
    "https://github.com/VVVikulin/ml1.sphere/blob/master/2019-09/lecture_06/pract-trees.ipynb\n",
    "\n",
    "Данные и описания колонок лежат тут\n",
    "https://cloud.mail.ru/public/8nHV/p6J7wY1y1/speed-dating-experiment/"
   ]
  },
  {
   "cell_type": "markdown",
   "metadata": {},
   "source": [
    "Скачайте датасет, обработайте данные, как показано на семинаре или своим собственным способом. Обучите дерево классифкации. В качестве таргета возьмите колонку 'match'. Постарайтесь хорошо обработать признаки, чтобы выбить максимальную точность. Если точность будет близка к случайному гаданию, задание не будет защитано. \n"
   ]
  },
  {
   "cell_type": "code",
   "execution_count": 8,
   "metadata": {},
   "outputs": [
    {
     "data": {
      "text/plain": [
       "(array([[ 2.45e+02,  2.34e+02,  5.00e-02, ...,  0.00e+00,  0.00e+00,\n",
       "          0.00e+00],\n",
       "        [ 2.45e+02,  2.35e+02,  4.30e-01, ...,  0.00e+00,  0.00e+00,\n",
       "          0.00e+00],\n",
       "        [ 2.45e+02,  2.36e+02,  1.90e-01, ...,  0.00e+00,  0.00e+00,\n",
       "          0.00e+00],\n",
       "        ...,\n",
       "        [ 5.52e+02,  5.28e+02, -4.60e-01, ...,  0.00e+00,  0.00e+00,\n",
       "          0.00e+00],\n",
       "        [ 5.52e+02,  5.29e+02,  6.20e-01, ...,  0.00e+00,  0.00e+00,\n",
       "          0.00e+00],\n",
       "        [ 5.52e+02,  5.30e+02,  1.00e-02, ...,  0.00e+00,  0.00e+00,\n",
       "          0.00e+00]]), array([0, 0, 0, ..., 0, 0, 0]))"
      ]
     },
     "execution_count": 8,
     "metadata": {},
     "output_type": "execute_result"
    }
   ],
   "source": [
    "df = pd.read_csv('Speed Dating Data.csv', encoding='latin1')\n",
    "df = df.iloc[:, :97]\n",
    "\n",
    "df = df.drop(['id'], axis = 1)\n",
    "df = df.drop(['from'], axis = 1)\n",
    "df = df.drop(['idg'], axis = 1)\n",
    "df = df.drop(['condtn'], axis = 1)\n",
    "df = df.drop(['round'], axis = 1)\n",
    "df = df.drop(['wave'], axis = 1)\n",
    "df = df.drop(['position', 'positin1'], axis = 1)\n",
    "df = df.drop(['order'], axis = 1)\n",
    "df = df.drop(['partner'], axis = 1)\n",
    "df = df.drop(['age_o', 'race_o', 'pf_o_att', \n",
    "              'pf_o_sin', 'pf_o_int',\n",
    "              'pf_o_fun', 'pf_o_amb', 'pf_o_sha',\n",
    "              'dec_o', 'attr_o', 'sinc_o', 'intel_o', 'fun_o',\n",
    "              'amb_o', 'shar_o', 'like_o', 'prob_o','met_o'], axis = 1)\n",
    "\n",
    "df = df.dropna(subset = ['age', 'imprelig', 'imprace'])\n",
    "df = df.drop(['field'], axis = 1)\n",
    "df = df.drop(['undergra'], axis = 1)\n",
    "\n",
    "df.loc[:, 'field_cd'] = df.loc[:, 'field_cd'].fillna(19)\n",
    "df.loc[:, 'mn_sat'] = df.loc[:, 'mn_sat'].str.replace(',', '').astype(np.float)\n",
    "df.loc[:, 'tuition'] = df.loc[:, 'tuition'].str.replace(',', '').astype(np.float)\n",
    "df.loc[:, 'zipcode'] = df.loc[:, 'zipcode'].str.replace(',', '').astype(np.float)\n",
    "df.loc[:, 'income'] = df.loc[:, 'income'].str.replace(',', '').astype(np.float)\n",
    "\n",
    "df['mn_sat'] = df['mn_sat'].fillna(0.0)\n",
    "df['tuition'] = df['tuition'].fillna(0.0)\n",
    "df['income'] = df['income'].fillna(0.0)\n",
    "df['career_c'] = df['career_c'].fillna(0.0)\n",
    "\n",
    "df = df.dropna(subset=['date'])\n",
    "df = df.drop(['career'], axis = 1)\n",
    "df = df.drop(['sports','tvsports','exercise','dining',\n",
    "              'museums','art','hiking','gaming',\n",
    "              'clubbing','reading','tv','theater','movies',\n",
    "              'concerts','music','shopping','yoga'], axis = 1)\n",
    "df = df.drop(['expnum'], axis = 1)\n",
    "df.loc[:, 'temp_totalsum'] = df.loc[:, ['attr1_1', 'sinc1_1', \n",
    "                                        'intel1_1', 'fun1_1', \n",
    "                                        'amb1_1', 'shar1_1']].sum(axis = 1)\n",
    "df.loc[:, ['attr1_1', 'sinc1_1', 'intel1_1', 'fun1_1', 'amb1_1', 'shar1_1']] = \\\n",
    "(df.loc[:, ['attr1_1', 'sinc1_1',\n",
    "            'intel1_1', 'fun1_1', \n",
    "            'amb1_1', 'shar1_1']].T/df.loc[:, 'temp_totalsum'].T).T * 100\n",
    "df.loc[:, 'temp_totalsum'] = df.loc[:, ['attr2_1', 'sinc2_1',\n",
    "                                        'intel2_1', 'fun2_1',\n",
    "                                        'amb2_1', 'shar2_1']].sum(axis=1)\n",
    "df.loc[:, ['attr2_1', 'sinc2_1',\n",
    "           'intel2_1', 'fun2_1',\n",
    "           'amb2_1', 'shar2_1']] = \\\n",
    "(df.loc[:, ['attr2_1', 'sinc2_1',\n",
    "            'intel2_1', 'fun2_1',\n",
    "            'amb2_1', 'shar2_1']].T/df.loc[:, 'temp_totalsum'].T).T * 100\n",
    "df = df.drop(['temp_totalsum'], axis = 1)\n",
    "df = df.dropna()\n",
    "for i in [4, 5]:\n",
    "    feat = ['attr{}_1'.format(i), 'sinc{}_1'.format(i), \n",
    "            'intel{}_1'.format(i), 'fun{}_1'.format(i), \n",
    "            'amb{}_1'.format(i), 'shar{}_1'.format(i)]\n",
    "    \n",
    "    if i != 4:\n",
    "        feat.remove('shar{}_1'.format(i))\n",
    "    \n",
    "    df = df.drop(feat, axis=1)\n",
    "df_male = df.query('gender == 1').drop_duplicates(subset = ['iid', 'pid'])\\\n",
    "                                 .drop(['gender'], axis = 1)\\\n",
    "                                 .dropna()\n",
    "df_female = df.query('gender == 0').drop_duplicates(subset = ['iid'])\\\n",
    "                                   .drop(['gender', 'match', 'int_corr', 'samerace'], axis = 1)\\\n",
    "                                   .dropna()\n",
    "        \n",
    "df_female.columns = df_female.columns + '_f'\n",
    "df = df_male.join(df_female)\n",
    "df = df.fillna(value = 0)\n",
    "\n",
    "X = np.array(df.drop(['match'], axis = 1))\n",
    "y = np.array(df['match'])\n",
    "X, y"
   ]
  },
  {
   "cell_type": "markdown",
   "metadata": {},
   "source": [
    "Разбейте датасет на трейн и валидацию. Подберите на валидации оптимальный критерий  информативности. \n",
    "Постройте графики зависимости точности на валидации от глубины дерева, от минимального числа объектов для сплита. \n",
    "Какой максимальной точности удалось достигнуть?"
   ]
  },
  {
   "cell_type": "code",
   "execution_count": 9,
   "metadata": {},
   "outputs": [
    {
     "name": "stdout",
     "output_type": "stream",
     "text": [
      "min_samples_split = 1, max_depth =  2, criterion =  gini\n",
      "f1_score = 0.8501030592731321\n",
      "\n",
      "min_samples_split = 5, max_depth =  2, criterion =  gini\n",
      "f1_score = 0.8501000214168865\n",
      "\n",
      "min_samples_split = 10, max_depth =  2, criterion =  gini\n",
      "f1_score = 0.8500947051684568\n",
      "\n",
      "min_samples_split = 15, max_depth =  2, criterion =  gini\n",
      "f1_score = 0.850089388920027\n",
      "\n",
      "min_samples_split = 20, max_depth =  2, criterion =  gini\n",
      "f1_score = 0.8501114133778076\n",
      "\n",
      "min_samples_split = 1, max_depth =  4, criterion =  gini\n",
      "f1_score = 0.8500924267762726\n",
      "\n",
      "min_samples_split = 5, max_depth =  4, criterion =  gini\n",
      "f1_score = 0.8501053376653163\n",
      "\n",
      "min_samples_split = 10, max_depth =  4, criterion =  gini\n",
      "f1_score = 0.8500931862403339\n",
      "\n",
      "min_samples_split = 15, max_depth =  4, criterion =  gini\n",
      "f1_score = 0.8501053376653163\n",
      "\n",
      "min_samples_split = 20, max_depth =  4, criterion =  gini\n",
      "f1_score = 0.8500985024887636\n",
      "\n"
     ]
    },
    {
     "name": "stderr",
     "output_type": "stream",
     "text": [
      "/home/danroor/anaconda3/lib/python3.7/site-packages/ipykernel_launcher.py:39: RuntimeWarning: invalid value encountered in true_divide\n"
     ]
    },
    {
     "name": "stdout",
     "output_type": "stream",
     "text": [
      "min_samples_split = 1, max_depth =  5, criterion =  gini\n",
      "f1_score = 0.850096983560641\n",
      "\n",
      "min_samples_split = 5, max_depth =  5, criterion =  gini\n",
      "f1_score = 0.8385280675133172\n",
      "\n",
      "min_samples_split = 10, max_depth =  5, criterion =  gini\n",
      "f1_score = 0.8395495466759018\n",
      "\n",
      "min_samples_split = 15, max_depth =  5, criterion =  gini\n",
      "f1_score = 0.8501007808809479\n",
      "\n",
      "min_samples_split = 20, max_depth =  5, criterion =  gini\n",
      "f1_score = 0.8500947051684568\n",
      "\n",
      "min_samples_split = 1, max_depth =  8, criterion =  gini\n",
      "f1_score = 0.8324933660814237\n",
      "\n",
      "min_samples_split = 5, max_depth =  8, criterion =  gini\n",
      "f1_score = 0.8380306185530993\n",
      "\n",
      "min_samples_split = 10, max_depth =  8, criterion =  gini\n",
      "f1_score = 0.844561250017088\n",
      "\n",
      "min_samples_split = 15, max_depth =  8, criterion =  gini\n",
      "f1_score = 0.8440713956974841\n",
      "\n",
      "min_samples_split = 20, max_depth =  8, criterion =  gini\n",
      "f1_score = 0.8455827291796725\n",
      "\n",
      "min_samples_split = 1, max_depth =  10, criterion =  gini\n",
      "f1_score = 0.8259513426565142\n",
      "\n",
      "min_samples_split = 5, max_depth =  10, criterion =  gini\n",
      "f1_score = 0.8284689660200589\n",
      "\n",
      "min_samples_split = 10, max_depth =  10, criterion =  gini\n",
      "f1_score = 0.8299795400381859\n",
      "\n",
      "min_samples_split = 15, max_depth =  10, criterion =  gini\n",
      "f1_score = 0.8415469371573868\n",
      "\n",
      "min_samples_split = 20, max_depth =  10, criterion =  gini\n",
      "f1_score = 0.8415385830527115\n",
      "\n",
      "min_samples_split = 1, max_depth =  15, criterion =  gini\n",
      "f1_score = 0.8350071921246615\n",
      "\n",
      "min_samples_split = 5, max_depth =  15, criterion =  gini\n",
      "f1_score = 0.8400386415314441\n",
      "\n",
      "min_samples_split = 10, max_depth =  15, criterion =  gini\n",
      "f1_score = 0.8289770474771364\n",
      "\n",
      "min_samples_split = 15, max_depth =  15, criterion =  gini\n",
      "f1_score = 0.8355069194770635\n",
      "\n",
      "min_samples_split = 20, max_depth =  15, criterion =  gini\n",
      "f1_score = 0.8430651058161277\n",
      "\n",
      "min_samples_split = 1, max_depth =  2, criterion =  entropy\n",
      "f1_score = 0.850099261952825\n",
      "\n",
      "min_samples_split = 5, max_depth =  2, criterion =  entropy\n",
      "f1_score = 0.8501022998090707\n",
      "\n",
      "min_samples_split = 10, max_depth =  2, criterion =  entropy\n",
      "f1_score = 0.8500924267762726\n",
      "\n",
      "min_samples_split = 15, max_depth =  2, criterion =  entropy\n",
      "f1_score = 0.850096983560641\n",
      "\n",
      "min_samples_split = 20, max_depth =  2, criterion =  entropy\n",
      "f1_score = 0.8501053376653163\n",
      "\n",
      "min_samples_split = 1, max_depth =  4, criterion =  entropy\n",
      "f1_score = 0.85008559159972\n",
      "\n",
      "min_samples_split = 5, max_depth =  4, criterion =  entropy\n",
      "f1_score = 0.8500924267762726\n",
      "\n",
      "min_samples_split = 10, max_depth =  4, criterion =  entropy\n",
      "f1_score = 0.8501000214168865\n",
      "\n",
      "min_samples_split = 15, max_depth =  4, criterion =  entropy\n",
      "f1_score = 0.8501030592731321\n",
      "\n",
      "min_samples_split = 20, max_depth =  4, criterion =  entropy\n",
      "f1_score = 0.8500977430247024\n",
      "\n",
      "min_samples_split = 1, max_depth =  5, criterion =  entropy\n",
      "f1_score = 0.8496033319207301\n",
      "\n",
      "min_samples_split = 5, max_depth =  5, criterion =  entropy\n",
      "f1_score = 0.8440630415928089\n",
      "\n",
      "min_samples_split = 10, max_depth =  5, criterion =  entropy\n",
      "f1_score = 0.8430628274239435\n",
      "\n",
      "min_samples_split = 15, max_depth =  5, criterion =  entropy\n",
      "f1_score = 0.8485856500784527\n",
      "\n",
      "min_samples_split = 20, max_depth =  5, criterion =  entropy\n",
      "f1_score = 0.8501076160575005\n",
      "\n"
     ]
    },
    {
     "name": "stderr",
     "output_type": "stream",
     "text": [
      "/home/danroor/anaconda3/lib/python3.7/site-packages/ipykernel_launcher.py:46: RuntimeWarning: invalid value encountered in true_divide\n",
      "/home/danroor/anaconda3/lib/python3.7/site-packages/ipykernel_launcher.py:43: RuntimeWarning: invalid value encountered in less\n"
     ]
    },
    {
     "name": "stdout",
     "output_type": "stream",
     "text": [
      "min_samples_split = 1, max_depth =  8, criterion =  entropy\n",
      "f1_score = 0.8345036674519525\n",
      "\n",
      "min_samples_split = 5, max_depth =  8, criterion =  entropy\n",
      "f1_score = 0.8299802995022473\n",
      "\n",
      "min_samples_split = 10, max_depth =  8, criterion =  entropy\n",
      "f1_score = 0.8420474239738501\n",
      "\n",
      "min_samples_split = 15, max_depth =  8, criterion =  entropy\n",
      "f1_score = 0.8355236276864142\n",
      "\n",
      "min_samples_split = 20, max_depth =  8, criterion =  entropy\n",
      "f1_score = 0.8420671700394465\n",
      "\n",
      "min_samples_split = 1, max_depth =  10, criterion =  entropy\n",
      "f1_score = 0.8360104441497724\n",
      "\n",
      "min_samples_split = 5, max_depth =  10, criterion =  entropy\n",
      "f1_score = 0.8264571457214073\n",
      "\n",
      "min_samples_split = 10, max_depth =  10, criterion =  entropy\n",
      "f1_score = 0.8470705192759573\n",
      "\n",
      "min_samples_split = 15, max_depth =  10, criterion =  entropy\n",
      "f1_score = 0.8410540449815374\n",
      "\n",
      "min_samples_split = 20, max_depth =  10, criterion =  entropy\n",
      "f1_score = 0.8299704264694491\n",
      "\n",
      "min_samples_split = 1, max_depth =  15, criterion =  entropy\n",
      "f1_score = 0.8400492740283036\n",
      "\n",
      "min_samples_split = 5, max_depth =  15, criterion =  entropy\n",
      "f1_score = 0.837516461383531\n",
      "\n",
      "min_samples_split = 10, max_depth =  15, criterion =  entropy\n",
      "f1_score = 0.841049488197169\n",
      "\n",
      "min_samples_split = 15, max_depth =  15, criterion =  entropy\n",
      "f1_score = 0.8319860440884077\n",
      "\n",
      "min_samples_split = 20, max_depth =  15, criterion =  entropy\n",
      "f1_score = 0.8400363631392599\n",
      "\n",
      "min_samples_split = 1, max_depth =  2, criterion =  misclass\n",
      "f1_score = 0.8500962240965796\n",
      "\n",
      "min_samples_split = 5, max_depth =  2, criterion =  misclass\n",
      "f1_score = 0.8501053376653163\n",
      "\n",
      "min_samples_split = 10, max_depth =  2, criterion =  misclass\n",
      "f1_score = 0.8501068565934391\n",
      "\n",
      "min_samples_split = 15, max_depth =  2, criterion =  misclass\n",
      "f1_score = 0.850096983560641\n",
      "\n",
      "min_samples_split = 20, max_depth =  2, criterion =  misclass\n",
      "f1_score = 0.8501060971293777\n",
      "\n",
      "min_samples_split = 1, max_depth =  4, criterion =  misclass\n",
      "f1_score = 0.8501022998090707\n",
      "\n",
      "min_samples_split = 5, max_depth =  4, criterion =  misclass\n",
      "f1_score = 0.8500954646325182\n",
      "\n",
      "min_samples_split = 10, max_depth =  4, criterion =  misclass\n",
      "f1_score = 0.850099261952825\n",
      "\n",
      "min_samples_split = 15, max_depth =  4, criterion =  misclass\n",
      "f1_score = 0.8501022998090709\n",
      "\n",
      "min_samples_split = 20, max_depth =  4, criterion =  misclass\n",
      "f1_score = 0.8500909078481498\n",
      "\n",
      "min_samples_split = 1, max_depth =  5, criterion =  misclass\n",
      "f1_score = 0.8501076160575005\n",
      "\n",
      "min_samples_split = 5, max_depth =  5, criterion =  misclass\n",
      "f1_score = 0.8500992619528253\n",
      "\n",
      "min_samples_split = 10, max_depth =  5, criterion =  misclass\n",
      "f1_score = 0.8501068565934391\n",
      "\n",
      "min_samples_split = 15, max_depth =  5, criterion =  misclass\n",
      "f1_score = 0.8460794186758287\n",
      "\n",
      "min_samples_split = 20, max_depth =  5, criterion =  misclass\n",
      "f1_score = 0.8500992619528253\n",
      "\n"
     ]
    },
    {
     "name": "stderr",
     "output_type": "stream",
     "text": [
      "/home/danroor/anaconda3/lib/python3.7/site-packages/ipykernel_launcher.py:49: RuntimeWarning: invalid value encountered in true_divide\n"
     ]
    },
    {
     "name": "stdout",
     "output_type": "stream",
     "text": [
      "min_samples_split = 1, max_depth =  8, criterion =  misclass\n",
      "f1_score = 0.8325002012579762\n",
      "\n",
      "min_samples_split = 5, max_depth =  8, criterion =  misclass\n",
      "f1_score = 0.8269659866425462\n",
      "\n",
      "min_samples_split = 10, max_depth =  8, criterion =  misclass\n",
      "f1_score = 0.8395381547149806\n",
      "\n",
      "min_samples_split = 15, max_depth =  8, criterion =  misclass\n",
      "f1_score = 0.8395373952509194\n",
      "\n",
      "min_samples_split = 20, max_depth =  8, criterion =  misclass\n",
      "f1_score = 0.8480851632619893\n",
      "\n",
      "min_samples_split = 1, max_depth =  10, criterion =  misclass\n",
      "f1_score = 0.8184166997033534\n",
      "\n",
      "min_samples_split = 5, max_depth =  10, criterion =  misclass\n",
      "f1_score = 0.8239326871813099\n",
      "\n",
      "min_samples_split = 10, max_depth =  10, criterion =  misclass\n",
      "f1_score = 0.8219322588435792\n",
      "\n",
      "min_samples_split = 15, max_depth =  10, criterion =  misclass\n",
      "f1_score = 0.8410479692690463\n",
      "\n",
      "min_samples_split = 20, max_depth =  10, criterion =  misclass\n",
      "f1_score = 0.842556264894989\n",
      "\n",
      "min_samples_split = 1, max_depth =  15, criterion =  misclass\n",
      "f1_score = 0.8033253893392511\n",
      "\n",
      "min_samples_split = 5, max_depth =  15, criterion =  misclass\n",
      "f1_score = 0.8123819982714598\n",
      "\n",
      "min_samples_split = 10, max_depth =  15, criterion =  misclass\n",
      "f1_score = 0.8289694528365222\n",
      "\n",
      "min_samples_split = 15, max_depth =  15, criterion =  misclass\n",
      "f1_score = 0.8380290996249765\n",
      "\n",
      "min_samples_split = 20, max_depth =  15, criterion =  misclass\n",
      "f1_score = 0.840040160459567\n",
      "\n",
      "{'min_samples_split': 20, 'max_depth': 2, 'criterion': 'gini'}\n",
      "0.8501114133778076\n"
     ]
    }
   ],
   "source": [
    "kf = KFold(n_splits = 3, shuffle = True)\n",
    "\n",
    "min_samples_range = [1, 5, 10, 15, 20]\n",
    "depth_range = [2, 4, 5, 8, 10, 15]\n",
    "crit_range = ['gini', 'entropy', 'misclass']\n",
    "\n",
    "plot_dict = {'gini' : [ [i for i in range(21)] for j in range(16) ],\n",
    "             'entropy' : [ [i for i in range(21)] for j in range(16) ],\n",
    "             'misclass' : [ [i for i in range(21)] for j in range(16) ]}\n",
    "\n",
    "best_model = {}\n",
    "max_score = 0.0\n",
    "\n",
    "for crit in crit_range:\n",
    "    for depth in depth_range:\n",
    "        for min_samples in min_samples_range:\n",
    "            clf = MyDecisionTreeClassifier(min_samples_split = min_samples, max_depth = depth, criterion = crit)\n",
    "            ind = kf.split(X)\n",
    "            scores = []\n",
    "            for train_ind, test_ind in ind:\n",
    "                clf.fit(X[train_ind], y[train_ind])\n",
    "                scores.append(accuracy_score(y[test_ind], clf.predict(X[test_ind])))\n",
    "            score = np.mean(np.array(scores))\n",
    "            \n",
    "            \n",
    "            if score > max_score:\n",
    "                best_model = {'min_samples_split' : min_samples, 'max_depth' : depth, 'criterion' : crit}\n",
    "                max_score = score\n",
    "                \n",
    "            print('''min_samples_split = {}, max_depth =  {}, criterion =  {}\\nf1_score = {}\\n'''\\\n",
    "                                        .format(min_samples, depth, crit, score))\n",
    "            \n",
    "            plot_dict[crit][depth][min_samples] = score\n",
    "            \n",
    "print(best_model)\n",
    "print(max_score)"
   ]
  },
  {
   "cell_type": "code",
   "execution_count": 86,
   "metadata": {},
   "outputs": [
    {
     "data": {
      "image/png": "[encoded data removed]",
      "text/plain": [
       "<Figure size 432x288 with 1 Axes>"
      ]
     },
     "metadata": {
      "needs_background": "light"
     },
     "output_type": "display_data"
    }
   ],
   "source": [
    "scores = plot_dict[best_model['criterion']] #matrix 16 depths x 21 min_sample_splits\n",
    "\n",
    "scores_from_min_sample = [scores[best_model['max_depth']][min_samples] for min_samples in min_samples_range]\n",
    "scores_from_max_depth = [scores[max_depth][best_model['min_samples_split']] for max_depth in depth_range]\n",
    "\n",
    "l, = plt.plot(min_samples_range, scores_from_min_sample)\n",
    "\n",
    "plt.xlim(0, 25)\n",
    "plt.ylim(0.85, 0.8502)\n",
    "plt.show()"
   ]
  },
  {
   "cell_type": "code",
   "execution_count": 89,
   "metadata": {},
   "outputs": [
    {
     "data": {
      "image/png": "[encoded data removed]",
      "text/plain": [
       "<Figure size 432x288 with 1 Axes>"
      ]
     },
     "metadata": {
      "needs_background": "light"
     },
     "output_type": "display_data"
    }
   ],
   "source": [
    "l, = plt.plot(depth_range, scores_from_max_depth)\n",
    "plt.xlim(0, 20)\n",
    "plt.ylim(0.84, 0.86)\n",
    "plt.show()"
   ]
  },
  {
   "cell_type": "markdown",
   "metadata": {},
   "source": [
    "## Находим самые важные признаки (2 балла)\n",
    "\n"
   ]
  },
  {
   "cell_type": "markdown",
   "metadata": {},
   "source": [
    "По построенному дереву  легко понять, какие признаки лучше всего помогли решить задачу. Часто это бывает нужно  не только  для сокращения размерности в данных, но и для лучшего понимания прикладной задачи. Например, Вы хотите понять, какие признаки стоит еще конструировать -- для этого нужно понимать, какие из текущих лучше всего работают в дереве. "
   ]
  },
  {
   "cell_type": "markdown",
   "metadata": {},
   "source": [
    "Самый простой метод -- посчитать число сплитов, где использовался данные признак. Это не лучший вариант, так как по признаку который принимает всего 2 значения, но который почти точно разделяет выборку, число сплитов будет очень 1, но при этом признак сам очень хороший. \n",
    "В этом задании предлагается для каждого признака считать суммарный gain (в лекции обозначено как Q) при использовании этого признака в сплите. Тогда даже у очень хороших признаков с маленьким число сплитов это значение должно быть довольно высоким.  "
   ]
  },
  {
   "cell_type": "markdown",
   "metadata": {},
   "source": [
    "Реализовать это довольно просто: создаете словарь номер фичи : суммарный гейн и добавляете в нужную фичу каждый раз, когда используете ее при построении дерева. "
   ]
  },
  {
   "cell_type": "markdown",
   "metadata": {},
   "source": [
    "Добавьте функционал, который определяет значения feature importance. Обучите дерево на датасете Speed Dating Data.\n",
    "Выведите 10 главных фичей по важности."
   ]
  },
  {
   "cell_type": "code",
   "execution_count": 17,
   "metadata": {},
   "outputs": [],
   "source": [
    "X_train, X_test, y_train, y_test = train_test_split(X, y, test_size = 0.4, random_state = 123)\n",
    "\n",
    "samp = best_model['min_samples_split']\n",
    "depth = best_model['max_depth']\n",
    "crit = best_model['criterion']\n",
    "\n",
    "mytree = MyDecisionTreeClassifier(min_samples_split = samp, max_depth = depth, criterion = crit)"
   ]
  },
  {
   "cell_type": "code",
   "execution_count": 18,
   "metadata": {},
   "outputs": [
    {
     "name": "stdout",
     "output_type": "stream",
     "text": [
      "0.842964824120603\n"
     ]
    }
   ],
   "source": [
    "mytree.fit(X_train, y_train)\n",
    "y_pred = mytree.predict(X_test)\n",
    "print(accuracy_score(y_pred, y_test))"
   ]
  },
  {
   "cell_type": "code",
   "execution_count": 24,
   "metadata": {},
   "outputs": [],
   "source": [
    "feat_imp = mytree.get_feature_importance()\n",
    "sorted_indices = np.argsort(-feat_imp)"
   ]
  },
  {
   "cell_type": "code",
   "execution_count": 26,
   "metadata": {},
   "outputs": [
    {
     "name": "stdout",
     "output_type": "stream",
     "text": [
      "[0.2854698  0.25375491 0.21571314 0.         0.         0.\n",
      " 0.         0.         0.         0.         0.         0.\n",
      " 0.         0.         0.         0.         0.         0.\n",
      " 0.         0.         0.         0.         0.         0.\n",
      " 0.         0.         0.         0.         0.         0.\n",
      " 0.         0.         0.         0.         0.         0.\n",
      " 0.         0.         0.         0.         0.         0.\n",
      " 0.         0.         0.         0.         0.         0.\n",
      " 0.         0.         0.         0.         0.         0.\n",
      " 0.         0.         0.         0.         0.         0.\n",
      " 0.         0.         0.         0.         0.         0.\n",
      " 0.         0.        ]\n"
     ]
    }
   ],
   "source": [
    "print(feat_imp[sorted_indices])"
   ]
  },
  {
   "cell_type": "code",
   "execution_count": 37,
   "metadata": {},
   "outputs": [
    {
     "name": "stdout",
     "output_type": "stream",
     "text": [
      "['fun3_1' 'imprelig' 'fun2_1' 'iid' 'date_f' 'goal_f' 'income_f'\n",
      " 'zipcode_f' 'imprelig_f' 'imprace_f']\n"
     ]
    }
   ],
   "source": [
    "ddf = df.drop(['match'], axis = 1)\n",
    "features = ddf.columns.values\n",
    "imp_feat = features[sorted_indices[:10]]\n",
    "print(imp_feat)"
   ]
  },
  {
   "cell_type": "markdown",
   "metadata": {},
   "source": [
    "## Фидбек (бесценно)"
   ]
  },
  {
   "cell_type": "markdown",
   "metadata": {},
   "source": [
    "* Какие аспекты обучения деревьев решений Вам показались непонятными? Какое место стоит дополнительно объяснить?"
   ]
  },
  {
   "cell_type": "markdown",
   "metadata": {},
   "source": [
    "### Ваш ответ здесь"
   ]
  },
  {
   "cell_type": "markdown",
   "metadata": {},
   "source": [
    "* Здесь Вы можете оставить отзыв о этой домашней работе или о всем курсе."
   ]
  },
  {
   "cell_type": "markdown",
   "metadata": {},
   "source": [
    "### ВАШ ОТЗЫВ ЗДЕСЬ\n",
    "\n"
   ]
  },
  {
   "cell_type": "code",
   "execution_count": null,
   "metadata": {
    "collapsed": true
   },
   "outputs": [],
   "source": []
  },
  {
   "cell_type": "code",
   "execution_count": null,
   "metadata": {
    "collapsed": true
   },
   "outputs": [],
   "source": []
  }
 ],
 "metadata": {
  "anaconda-cloud": {},
  "kernelspec": {
   "display_name": "Python 3",
   "language": "python",
   "name": "python3"
  },
  "language_info": {
   "codemirror_mode": {
    "name": "ipython",
    "version": 3
   },
   "file_extension": ".py",
   "mimetype": "text/x-python",
   "name": "python",
   "nbconvert_exporter": "python",
   "pygments_lexer": "ipython3",
   "version": "3.7.4"
  }
 },
 "nbformat": 4,
 "nbformat_minor": 2
}
