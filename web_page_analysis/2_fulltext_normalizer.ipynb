{
 "cells": [
  {
   "cell_type": "markdown",
   "metadata": {},
   "source": [
    "### 2. Предобработка текстов веб-страниц"
   ]
  },
  {
   "cell_type": "code",
   "execution_count": 1,
   "metadata": {},
   "outputs": [],
   "source": [
    "import os\n",
    "import nltk\n",
    "import numpy as np\n",
    "import pandas as pd\n",
    "from nltk.corpus import stopwords\n",
    "from pymystem3 import Mystem\n",
    "from string import punctuation\n",
    "mystem = Mystem() \n",
    "russian_stopwords = stopwords.words(\"russian\")\n",
    "\n",
    "def preprocess_text(text):\n",
    "    def is_word(token):\n",
    "        legal_chars = '0123456789abcdefghijklmnopqrstuvwxyzабвгдеёжзийклмнопрстуфхцчшщъыьэюя'\n",
    "        for c in legal_chars:\n",
    "            if c in token:\n",
    "                return True\n",
    "        return False\n",
    "\n",
    "    tokens = mystem.lemmatize(text.lower())\n",
    "    tokens = [token.strip() for token in tokens if token not in russian_stopwords\n",
    "              and len(token) > 1\n",
    "              and token.strip() not in punctuation\n",
    "              and is_word(token)]\n",
    "    \n",
    "    text = \" \".join(tokens)\n",
    "    \n",
    "    return text\n",
    "\n",
    "def preprocess_file(file_name):\n",
    "    with open(os.path.join('/Users/tiptop/Downloads/preprocessed', file_name)) as in_:\n",
    "        out_name = file_name[:file_name.find('_')]\n",
    "        with open(f'fulltext/{out_name}.txt', 'w') as out_:\n",
    "            out_.write(preprocess_text(in_.read()))"
   ]
  },
  {
   "cell_type": "code",
   "execution_count": 3,
   "metadata": {
    "scrolled": false
   },
   "outputs": [
    {
     "data": {
      "application/vnd.jupyter.widget-view+json": {
       "model_id": "7fba67608e994503b92dde746906944b",
       "version_major": 2,
       "version_minor": 0
      },
      "text/plain": [
       "HBox(children=(FloatProgress(value=0.0, max=28026.0), HTML(value='')))"
      ]
     },
     "metadata": {},
     "output_type": "display_data"
    },
    {
     "name": "stdout",
     "output_type": "stream",
     "text": [
      "\n"
     ]
    }
   ],
   "source": [
    "from tqdm.notebook import tqdm\n",
    "from multiprocessing import Pool\n",
    "\n",
    "files = sorted(os.listdir('/Users/tiptop/Downloads/preprocessed'))\n",
    "with Pool(4) as p:\n",
    "    pages = list(tqdm(p.imap(preprocess_file, files), total=len(files)))"
   ]
  }
 ],
 "metadata": {
  "kernelspec": {
   "display_name": "Python 3",
   "language": "python",
   "name": "python3"
  },
  "language_info": {
   "codemirror_mode": {
    "name": "ipython",
    "version": 3
   },
   "file_extension": ".py",
   "mimetype": "text/x-python",
   "name": "python",
   "nbconvert_exporter": "python",
   "pygments_lexer": "ipython3",
   "version": "3.7.4"
  }
 },
 "nbformat": 4,
 "nbformat_minor": 4
}
